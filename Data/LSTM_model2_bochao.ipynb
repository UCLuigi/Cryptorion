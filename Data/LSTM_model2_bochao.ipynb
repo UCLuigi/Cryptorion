{
 "cells": [
  {
   "cell_type": "code",
   "execution_count": 53,
   "metadata": {
    "collapsed": true
   },
   "outputs": [],
   "source": [
    "import numpy as np # linear algebra\n",
    "import pandas as pd # data processing, CSV file I/O (e.g. pd.read_csv)\n",
    "\n",
    "from subprocess import check_output\n",
    "from keras.layers.core import Dense, Activation, Dropout\n",
    "from keras.layers.recurrent import LSTM\n",
    "from keras.models import Sequential\n",
    "from sklearn.cross_validation import  train_test_split\n",
    "import time #helper libraries\n",
    "from sklearn.preprocessing import MinMaxScaler\n",
    "import matplotlib.pyplot as plt\n",
    "from numpy import newaxis"
   ]
  },
  {
   "cell_type": "code",
   "execution_count": 55,
   "metadata": {},
   "outputs": [
    {
     "name": "stderr",
     "output_type": "stream",
     "text": [
      "/Users/bochaolu1/anaconda3/envs/data-x/lib/python3.6/site-packages/IPython/core/interactiveshell.py:2728: DtypeWarning: Columns (1,2,3,4,5,6,7,8,9,10,11,12,13,14,15,16,17,18,19,20,21,22,23,24,25,26,27,28,29,30,31,32,33,34,35,36) have mixed types. Specify dtype option on import or set low_memory=False.\n",
      "  interactivity=interactivity, compiler=compiler, result=result)\n"
     ]
    },
    {
     "data": {
      "text/html": [
       "<div>\n",
       "<style scoped>\n",
       "    .dataframe tbody tr th:only-of-type {\n",
       "        vertical-align: middle;\n",
       "    }\n",
       "\n",
       "    .dataframe tbody tr th {\n",
       "        vertical-align: top;\n",
       "    }\n",
       "\n",
       "    .dataframe thead th {\n",
       "        text-align: right;\n",
       "    }\n",
       "</style>\n",
       "<table border=\"1\" class=\"dataframe\">\n",
       "  <thead>\n",
       "    <tr style=\"text-align: right;\">\n",
       "      <th></th>\n",
       "      <th>USDT_BTC</th>\n",
       "      <th>USDT_BTC.1</th>\n",
       "      <th>USDT_BTC.2</th>\n",
       "      <th>USDT_XRP</th>\n",
       "      <th>USDT_XRP.1</th>\n",
       "      <th>USDT_XRP.2</th>\n",
       "      <th>USDT_BCH</th>\n",
       "      <th>USDT_BCH.1</th>\n",
       "      <th>USDT_BCH.2</th>\n",
       "      <th>USDT_ETH</th>\n",
       "      <th>...</th>\n",
       "      <th>USDT_ZEC.2</th>\n",
       "      <th>USDT_DASH</th>\n",
       "      <th>USDT_DASH.1</th>\n",
       "      <th>USDT_DASH.2</th>\n",
       "      <th>USDT_NXT</th>\n",
       "      <th>USDT_NXT.1</th>\n",
       "      <th>USDT_NXT.2</th>\n",
       "      <th>USDT_REP</th>\n",
       "      <th>USDT_REP.1</th>\n",
       "      <th>USDT_REP.2</th>\n",
       "    </tr>\n",
       "  </thead>\n",
       "  <tbody>\n",
       "    <tr>\n",
       "      <th>0</th>\n",
       "      <td>5.596723</td>\n",
       "      <td>5398.837117</td>\n",
       "      <td>964.642624</td>\n",
       "      <td>1569.505205</td>\n",
       "      <td>10.177061</td>\n",
       "      <td>0.006484</td>\n",
       "      <td>NaN</td>\n",
       "      <td>NaN</td>\n",
       "      <td>NaN</td>\n",
       "      <td>10.829825</td>\n",
       "      <td>...</td>\n",
       "      <td>48.030064</td>\n",
       "      <td>0.311778</td>\n",
       "      <td>3.531872</td>\n",
       "      <td>11.328167</td>\n",
       "      <td>0.000000</td>\n",
       "      <td>0.00000</td>\n",
       "      <td>0.005898</td>\n",
       "      <td>4.451525</td>\n",
       "      <td>16.991181</td>\n",
       "      <td>3.816935</td>\n",
       "    </tr>\n",
       "    <tr>\n",
       "      <th>1</th>\n",
       "      <td>0.087282</td>\n",
       "      <td>84.302118</td>\n",
       "      <td>965.858035</td>\n",
       "      <td>0.000000</td>\n",
       "      <td>0.000000</td>\n",
       "      <td>0.006487</td>\n",
       "      <td>NaN</td>\n",
       "      <td>NaN</td>\n",
       "      <td>NaN</td>\n",
       "      <td>1.905818</td>\n",
       "      <td>...</td>\n",
       "      <td>47.995989</td>\n",
       "      <td>0.000000</td>\n",
       "      <td>0.000000</td>\n",
       "      <td>11.340000</td>\n",
       "      <td>3.749288</td>\n",
       "      <td>0.02215</td>\n",
       "      <td>0.005908</td>\n",
       "      <td>0.627492</td>\n",
       "      <td>2.407884</td>\n",
       "      <td>3.837313</td>\n",
       "    </tr>\n",
       "    <tr>\n",
       "      <th>2</th>\n",
       "      <td>2.737368</td>\n",
       "      <td>2638.676171</td>\n",
       "      <td>963.946565</td>\n",
       "      <td>0.000000</td>\n",
       "      <td>0.000000</td>\n",
       "      <td>0.006487</td>\n",
       "      <td>NaN</td>\n",
       "      <td>NaN</td>\n",
       "      <td>NaN</td>\n",
       "      <td>52.238724</td>\n",
       "      <td>...</td>\n",
       "      <td>47.870846</td>\n",
       "      <td>0.000000</td>\n",
       "      <td>0.000000</td>\n",
       "      <td>11.340000</td>\n",
       "      <td>0.000000</td>\n",
       "      <td>0.00000</td>\n",
       "      <td>0.005908</td>\n",
       "      <td>0.000000</td>\n",
       "      <td>0.000000</td>\n",
       "      <td>3.837313</td>\n",
       "    </tr>\n",
       "    <tr>\n",
       "      <th>3</th>\n",
       "      <td>3.550087</td>\n",
       "      <td>3415.272309</td>\n",
       "      <td>962.024978</td>\n",
       "      <td>0.000000</td>\n",
       "      <td>0.000000</td>\n",
       "      <td>0.006487</td>\n",
       "      <td>NaN</td>\n",
       "      <td>NaN</td>\n",
       "      <td>NaN</td>\n",
       "      <td>71.031741</td>\n",
       "      <td>...</td>\n",
       "      <td>47.870846</td>\n",
       "      <td>0.021098</td>\n",
       "      <td>0.238512</td>\n",
       "      <td>11.305037</td>\n",
       "      <td>0.000000</td>\n",
       "      <td>0.00000</td>\n",
       "      <td>0.005908</td>\n",
       "      <td>0.000000</td>\n",
       "      <td>0.000000</td>\n",
       "      <td>3.837313</td>\n",
       "    </tr>\n",
       "    <tr>\n",
       "      <th>4</th>\n",
       "      <td>0.083323</td>\n",
       "      <td>80.287691</td>\n",
       "      <td>963.568648</td>\n",
       "      <td>0.000000</td>\n",
       "      <td>0.000000</td>\n",
       "      <td>0.006487</td>\n",
       "      <td>NaN</td>\n",
       "      <td>NaN</td>\n",
       "      <td>NaN</td>\n",
       "      <td>2.364352</td>\n",
       "      <td>...</td>\n",
       "      <td>48.130523</td>\n",
       "      <td>0.000000</td>\n",
       "      <td>0.000000</td>\n",
       "      <td>11.305037</td>\n",
       "      <td>0.000000</td>\n",
       "      <td>0.00000</td>\n",
       "      <td>0.005908</td>\n",
       "      <td>0.000000</td>\n",
       "      <td>0.000000</td>\n",
       "      <td>3.837313</td>\n",
       "    </tr>\n",
       "  </tbody>\n",
       "</table>\n",
       "<p>5 rows × 36 columns</p>\n",
       "</div>"
      ],
      "text/plain": [
       "   USDT_BTC   USDT_BTC.1  USDT_BTC.2     USDT_XRP  USDT_XRP.1  USDT_XRP.2  \\\n",
       "0  5.596723  5398.837117  964.642624  1569.505205   10.177061    0.006484   \n",
       "1  0.087282    84.302118  965.858035     0.000000    0.000000    0.006487   \n",
       "2  2.737368  2638.676171  963.946565     0.000000    0.000000    0.006487   \n",
       "3  3.550087  3415.272309  962.024978     0.000000    0.000000    0.006487   \n",
       "4  0.083323    80.287691  963.568648     0.000000    0.000000    0.006487   \n",
       "\n",
       "   USDT_BCH  USDT_BCH.1  USDT_BCH.2   USDT_ETH     ...      USDT_ZEC.2  \\\n",
       "0       NaN         NaN         NaN  10.829825     ...       48.030064   \n",
       "1       NaN         NaN         NaN   1.905818     ...       47.995989   \n",
       "2       NaN         NaN         NaN  52.238724     ...       47.870846   \n",
       "3       NaN         NaN         NaN  71.031741     ...       47.870846   \n",
       "4       NaN         NaN         NaN   2.364352     ...       48.130523   \n",
       "\n",
       "   USDT_DASH  USDT_DASH.1  USDT_DASH.2  USDT_NXT  USDT_NXT.1  USDT_NXT.2  \\\n",
       "0   0.311778     3.531872    11.328167  0.000000     0.00000    0.005898   \n",
       "1   0.000000     0.000000    11.340000  3.749288     0.02215    0.005908   \n",
       "2   0.000000     0.000000    11.340000  0.000000     0.00000    0.005908   \n",
       "3   0.021098     0.238512    11.305037  0.000000     0.00000    0.005908   \n",
       "4   0.000000     0.000000    11.305037  0.000000     0.00000    0.005908   \n",
       "\n",
       "   USDT_REP  USDT_REP.1  USDT_REP.2  \n",
       "0  4.451525   16.991181    3.816935  \n",
       "1  0.627492    2.407884    3.837313  \n",
       "2  0.000000    0.000000    3.837313  \n",
       "3  0.000000    0.000000    3.837313  \n",
       "4  0.000000    0.000000    3.837313  \n",
       "\n",
       "[5 rows x 36 columns]"
      ]
     },
     "execution_count": 55,
     "metadata": {},
     "output_type": "execute_result"
    }
   ],
   "source": [
    "pdf = pd.read_csv('poloniex_usdt_pairs.csv')\n",
    "new_df = pd.DataFrame(pdf[1:])\n",
    "new_df = new_df.set_index('Unnamed: 0').apply(lambda x: pd.Series([float(i) for i in x]))\n",
    "new_df.head()"
   ]
  },
  {
   "cell_type": "code",
   "execution_count": 56,
   "metadata": {},
   "outputs": [
    {
     "data": {
      "text/html": [
       "<div>\n",
       "<style scoped>\n",
       "    .dataframe tbody tr th:only-of-type {\n",
       "        vertical-align: middle;\n",
       "    }\n",
       "\n",
       "    .dataframe tbody tr th {\n",
       "        vertical-align: top;\n",
       "    }\n",
       "\n",
       "    .dataframe thead th {\n",
       "        text-align: right;\n",
       "    }\n",
       "</style>\n",
       "<table border=\"1\" class=\"dataframe\">\n",
       "  <thead>\n",
       "    <tr style=\"text-align: right;\">\n",
       "      <th></th>\n",
       "      <th>USDT_BTC</th>\n",
       "      <th>USDT_BTC.1</th>\n",
       "      <th>USDT_BTC.2</th>\n",
       "      <th>USDT_XRP</th>\n",
       "      <th>USDT_XRP.1</th>\n",
       "      <th>USDT_XRP.2</th>\n",
       "      <th>USDT_ETH</th>\n",
       "      <th>USDT_ETH.1</th>\n",
       "      <th>USDT_ETH.2</th>\n",
       "      <th>USDT_LTC</th>\n",
       "      <th>...</th>\n",
       "      <th>USDT_ZEC.2</th>\n",
       "      <th>USDT_DASH</th>\n",
       "      <th>USDT_DASH.1</th>\n",
       "      <th>USDT_DASH.2</th>\n",
       "      <th>USDT_NXT</th>\n",
       "      <th>USDT_NXT.1</th>\n",
       "      <th>USDT_NXT.2</th>\n",
       "      <th>USDT_REP</th>\n",
       "      <th>USDT_REP.1</th>\n",
       "      <th>USDT_REP.2</th>\n",
       "    </tr>\n",
       "  </thead>\n",
       "  <tbody>\n",
       "    <tr>\n",
       "      <th>0</th>\n",
       "      <td>5.596723</td>\n",
       "      <td>5398.837117</td>\n",
       "      <td>964.642624</td>\n",
       "      <td>1569.505205</td>\n",
       "      <td>10.177061</td>\n",
       "      <td>0.006484</td>\n",
       "      <td>10.829825</td>\n",
       "      <td>87.204495</td>\n",
       "      <td>8.052253</td>\n",
       "      <td>0.000000</td>\n",
       "      <td>...</td>\n",
       "      <td>48.030064</td>\n",
       "      <td>0.311778</td>\n",
       "      <td>3.531872</td>\n",
       "      <td>11.328167</td>\n",
       "      <td>0.000000</td>\n",
       "      <td>0.00000</td>\n",
       "      <td>0.005898</td>\n",
       "      <td>4.451525</td>\n",
       "      <td>16.991181</td>\n",
       "      <td>3.816935</td>\n",
       "    </tr>\n",
       "    <tr>\n",
       "      <th>1</th>\n",
       "      <td>0.087282</td>\n",
       "      <td>84.302118</td>\n",
       "      <td>965.858035</td>\n",
       "      <td>0.000000</td>\n",
       "      <td>0.000000</td>\n",
       "      <td>0.006487</td>\n",
       "      <td>1.905818</td>\n",
       "      <td>15.430150</td>\n",
       "      <td>8.096340</td>\n",
       "      <td>3.488528</td>\n",
       "      <td>...</td>\n",
       "      <td>47.995989</td>\n",
       "      <td>0.000000</td>\n",
       "      <td>0.000000</td>\n",
       "      <td>11.340000</td>\n",
       "      <td>3.749288</td>\n",
       "      <td>0.02215</td>\n",
       "      <td>0.005908</td>\n",
       "      <td>0.627492</td>\n",
       "      <td>2.407884</td>\n",
       "      <td>3.837313</td>\n",
       "    </tr>\n",
       "    <tr>\n",
       "      <th>2</th>\n",
       "      <td>2.737368</td>\n",
       "      <td>2638.676171</td>\n",
       "      <td>963.946565</td>\n",
       "      <td>0.000000</td>\n",
       "      <td>0.000000</td>\n",
       "      <td>0.006487</td>\n",
       "      <td>52.238724</td>\n",
       "      <td>424.651523</td>\n",
       "      <td>8.129056</td>\n",
       "      <td>0.022954</td>\n",
       "      <td>...</td>\n",
       "      <td>47.870846</td>\n",
       "      <td>0.000000</td>\n",
       "      <td>0.000000</td>\n",
       "      <td>11.340000</td>\n",
       "      <td>0.000000</td>\n",
       "      <td>0.00000</td>\n",
       "      <td>0.005908</td>\n",
       "      <td>0.000000</td>\n",
       "      <td>0.000000</td>\n",
       "      <td>3.837313</td>\n",
       "    </tr>\n",
       "    <tr>\n",
       "      <th>3</th>\n",
       "      <td>3.550087</td>\n",
       "      <td>3415.272309</td>\n",
       "      <td>962.024978</td>\n",
       "      <td>0.000000</td>\n",
       "      <td>0.000000</td>\n",
       "      <td>0.006487</td>\n",
       "      <td>71.031741</td>\n",
       "      <td>581.842210</td>\n",
       "      <td>8.191299</td>\n",
       "      <td>0.001006</td>\n",
       "      <td>...</td>\n",
       "      <td>47.870846</td>\n",
       "      <td>0.021098</td>\n",
       "      <td>0.238512</td>\n",
       "      <td>11.305037</td>\n",
       "      <td>0.000000</td>\n",
       "      <td>0.00000</td>\n",
       "      <td>0.005908</td>\n",
       "      <td>0.000000</td>\n",
       "      <td>0.000000</td>\n",
       "      <td>3.837313</td>\n",
       "    </tr>\n",
       "    <tr>\n",
       "      <th>4</th>\n",
       "      <td>0.083323</td>\n",
       "      <td>80.287691</td>\n",
       "      <td>963.568648</td>\n",
       "      <td>0.000000</td>\n",
       "      <td>0.000000</td>\n",
       "      <td>0.006487</td>\n",
       "      <td>2.364352</td>\n",
       "      <td>19.389736</td>\n",
       "      <td>8.200868</td>\n",
       "      <td>15.142531</td>\n",
       "      <td>...</td>\n",
       "      <td>48.130523</td>\n",
       "      <td>0.000000</td>\n",
       "      <td>0.000000</td>\n",
       "      <td>11.305037</td>\n",
       "      <td>0.000000</td>\n",
       "      <td>0.00000</td>\n",
       "      <td>0.005908</td>\n",
       "      <td>0.000000</td>\n",
       "      <td>0.000000</td>\n",
       "      <td>3.837313</td>\n",
       "    </tr>\n",
       "  </tbody>\n",
       "</table>\n",
       "<p>5 rows × 33 columns</p>\n",
       "</div>"
      ],
      "text/plain": [
       "   USDT_BTC   USDT_BTC.1  USDT_BTC.2     USDT_XRP  USDT_XRP.1  USDT_XRP.2  \\\n",
       "0  5.596723  5398.837117  964.642624  1569.505205   10.177061    0.006484   \n",
       "1  0.087282    84.302118  965.858035     0.000000    0.000000    0.006487   \n",
       "2  2.737368  2638.676171  963.946565     0.000000    0.000000    0.006487   \n",
       "3  3.550087  3415.272309  962.024978     0.000000    0.000000    0.006487   \n",
       "4  0.083323    80.287691  963.568648     0.000000    0.000000    0.006487   \n",
       "\n",
       "    USDT_ETH  USDT_ETH.1  USDT_ETH.2   USDT_LTC     ...      USDT_ZEC.2  \\\n",
       "0  10.829825   87.204495    8.052253   0.000000     ...       48.030064   \n",
       "1   1.905818   15.430150    8.096340   3.488528     ...       47.995989   \n",
       "2  52.238724  424.651523    8.129056   0.022954     ...       47.870846   \n",
       "3  71.031741  581.842210    8.191299   0.001006     ...       47.870846   \n",
       "4   2.364352   19.389736    8.200868  15.142531     ...       48.130523   \n",
       "\n",
       "   USDT_DASH  USDT_DASH.1  USDT_DASH.2  USDT_NXT  USDT_NXT.1  USDT_NXT.2  \\\n",
       "0   0.311778     3.531872    11.328167  0.000000     0.00000    0.005898   \n",
       "1   0.000000     0.000000    11.340000  3.749288     0.02215    0.005908   \n",
       "2   0.000000     0.000000    11.340000  0.000000     0.00000    0.005908   \n",
       "3   0.021098     0.238512    11.305037  0.000000     0.00000    0.005908   \n",
       "4   0.000000     0.000000    11.305037  0.000000     0.00000    0.005908   \n",
       "\n",
       "   USDT_REP  USDT_REP.1  USDT_REP.2  \n",
       "0  4.451525   16.991181    3.816935  \n",
       "1  0.627492    2.407884    3.837313  \n",
       "2  0.000000    0.000000    3.837313  \n",
       "3  0.000000    0.000000    3.837313  \n",
       "4  0.000000    0.000000    3.837313  \n",
       "\n",
       "[5 rows x 33 columns]"
      ]
     },
     "execution_count": 56,
     "metadata": {},
     "output_type": "execute_result"
    }
   ],
   "source": [
    "df1=new_df.drop({'USDT_BCH','USDT_BCH.1','USDT_BCH.2'},axis=1)\n",
    "df1.head()"
   ]
  },
  {
   "cell_type": "code",
   "execution_count": 57,
   "metadata": {},
   "outputs": [
    {
     "data": {
      "text/plain": [
       "USDT_BTC       0\n",
       "USDT_BTC.1     0\n",
       "USDT_BTC.2     0\n",
       "USDT_XRP       0\n",
       "USDT_XRP.1     0\n",
       "USDT_XRP.2     0\n",
       "USDT_ETH       0\n",
       "USDT_ETH.1     0\n",
       "USDT_ETH.2     0\n",
       "USDT_LTC       0\n",
       "USDT_LTC.1     0\n",
       "USDT_LTC.2     0\n",
       "USDT_ETC       0\n",
       "USDT_ETC.1     0\n",
       "USDT_ETC.2     0\n",
       "USDT_STR       0\n",
       "USDT_STR.1     0\n",
       "USDT_STR.2     0\n",
       "USDT_XMR       0\n",
       "USDT_XMR.1     0\n",
       "USDT_XMR.2     0\n",
       "USDT_ZEC       0\n",
       "USDT_ZEC.1     0\n",
       "USDT_ZEC.2     0\n",
       "USDT_DASH      0\n",
       "USDT_DASH.1    0\n",
       "USDT_DASH.2    0\n",
       "USDT_NXT       0\n",
       "USDT_NXT.1     0\n",
       "USDT_NXT.2     0\n",
       "USDT_REP       0\n",
       "USDT_REP.1     0\n",
       "USDT_REP.2     0\n",
       "dtype: int64"
      ]
     },
     "execution_count": 57,
     "metadata": {},
     "output_type": "execute_result"
    }
   ],
   "source": [
    "df1=df1[:-3]\n",
    "df1.isnull().sum()"
   ]
  },
  {
   "cell_type": "code",
   "execution_count": 58,
   "metadata": {},
   "outputs": [
    {
     "data": {
      "text/html": [
       "<div>\n",
       "<style scoped>\n",
       "    .dataframe tbody tr th:only-of-type {\n",
       "        vertical-align: middle;\n",
       "    }\n",
       "\n",
       "    .dataframe tbody tr th {\n",
       "        vertical-align: top;\n",
       "    }\n",
       "\n",
       "    .dataframe thead th {\n",
       "        text-align: right;\n",
       "    }\n",
       "</style>\n",
       "<table border=\"1\" class=\"dataframe\">\n",
       "  <thead>\n",
       "    <tr style=\"text-align: right;\">\n",
       "      <th></th>\n",
       "      <th>USDT_BTC.2</th>\n",
       "    </tr>\n",
       "  </thead>\n",
       "  <tbody>\n",
       "    <tr>\n",
       "      <th>0</th>\n",
       "      <td>964.642624</td>\n",
       "    </tr>\n",
       "    <tr>\n",
       "      <th>1</th>\n",
       "      <td>965.858035</td>\n",
       "    </tr>\n",
       "    <tr>\n",
       "      <th>2</th>\n",
       "      <td>963.946565</td>\n",
       "    </tr>\n",
       "    <tr>\n",
       "      <th>3</th>\n",
       "      <td>962.024978</td>\n",
       "    </tr>\n",
       "    <tr>\n",
       "      <th>4</th>\n",
       "      <td>963.568648</td>\n",
       "    </tr>\n",
       "  </tbody>\n",
       "</table>\n",
       "</div>"
      ],
      "text/plain": [
       "   USDT_BTC.2\n",
       "0  964.642624\n",
       "1  965.858035\n",
       "2  963.946565\n",
       "3  962.024978\n",
       "4  963.568648"
      ]
     },
     "execution_count": 58,
     "metadata": {},
     "output_type": "execute_result"
    }
   ],
   "source": [
    "x=df1.iloc[:,2:3]\n",
    "x.head()"
   ]
  },
  {
   "cell_type": "code",
   "execution_count": 59,
   "metadata": {},
   "outputs": [
    {
     "data": {
      "text/html": [
       "<div>\n",
       "<style scoped>\n",
       "    .dataframe tbody tr th:only-of-type {\n",
       "        vertical-align: middle;\n",
       "    }\n",
       "\n",
       "    .dataframe tbody tr th {\n",
       "        vertical-align: top;\n",
       "    }\n",
       "\n",
       "    .dataframe thead th {\n",
       "        text-align: right;\n",
       "    }\n",
       "</style>\n",
       "<table border=\"1\" class=\"dataframe\">\n",
       "  <thead>\n",
       "    <tr style=\"text-align: right;\">\n",
       "      <th></th>\n",
       "      <th>USDT_BTC.2</th>\n",
       "    </tr>\n",
       "  </thead>\n",
       "  <tbody>\n",
       "    <tr>\n",
       "      <th>0</th>\n",
       "      <td>965.858035</td>\n",
       "    </tr>\n",
       "    <tr>\n",
       "      <th>1</th>\n",
       "      <td>963.946565</td>\n",
       "    </tr>\n",
       "    <tr>\n",
       "      <th>2</th>\n",
       "      <td>962.024978</td>\n",
       "    </tr>\n",
       "    <tr>\n",
       "      <th>3</th>\n",
       "      <td>963.568648</td>\n",
       "    </tr>\n",
       "    <tr>\n",
       "      <th>4</th>\n",
       "      <td>965.356982</td>\n",
       "    </tr>\n",
       "  </tbody>\n",
       "</table>\n",
       "</div>"
      ],
      "text/plain": [
       "   USDT_BTC.2\n",
       "0  965.858035\n",
       "1  963.946565\n",
       "2  962.024978\n",
       "3  963.568648\n",
       "4  965.356982"
      ]
     },
     "execution_count": 59,
     "metadata": {},
     "output_type": "execute_result"
    }
   ],
   "source": [
    "y=df1.iloc[1:,2:3]\n",
    "#y.head()\n",
    "y = y.apply(lambda x: pd.Series([float(i) for i in x]))\n",
    "y.head()"
   ]
  },
  {
   "cell_type": "code",
   "execution_count": 60,
   "metadata": {},
   "outputs": [
    {
     "data": {
      "text/plain": [
       "(125388, 1)"
      ]
     },
     "execution_count": 60,
     "metadata": {},
     "output_type": "execute_result"
    }
   ],
   "source": [
    "x.shape"
   ]
  },
  {
   "cell_type": "code",
   "execution_count": 61,
   "metadata": {
    "collapsed": true
   },
   "outputs": [],
   "source": [
    "scaler_x=MinMaxScaler(feature_range=(-1,1))\n",
    "#x_set=np.array(x).reshape((len(x),1))\n",
    "x_set=scaler_x.fit_transform(x)\n",
    "scaler_y=MinMaxScaler(feature_range=(-1,1))\n",
    "#y=np.array(y).reshape((len(y),1))\n",
    "y=scaler_y.fit_transform(y)\n"
   ]
  },
  {
   "cell_type": "code",
   "execution_count": 62,
   "metadata": {},
   "outputs": [
    {
     "data": {
      "text/plain": [
       "(125388, 1)"
      ]
     },
     "execution_count": 62,
     "metadata": {},
     "output_type": "execute_result"
    }
   ],
   "source": [
    "x.shape"
   ]
  },
  {
   "cell_type": "code",
   "execution_count": 63,
   "metadata": {},
   "outputs": [
    {
     "name": "stdout",
     "output_type": "stream",
     "text": [
      "(8000, 1) (2000, 1)\n",
      "(8000, 1) (2000, 1)\n"
     ]
    }
   ],
   "source": [
    "data_to_use=10000\n",
    "train_end=int(data_to_use*0.8)\n",
    "total_data=len(df1)\n",
    "#start=total_data-data_to_use\n",
    "\n",
    "x_train=np.array(x[0:train_end])\n",
    "y_train=np.array(y[0:train_end])\n",
    "x_test=np.array(x[train_end+1:data_to_use+1])\n",
    "y_test=np.array(y[train_end+1:data_to_use+1])\n",
    "\n",
    "print(x_train.shape,x_test.shape)\n",
    "print(y_train.shape,y_test.shape)"
   ]
  },
  {
   "cell_type": "code",
   "execution_count": 64,
   "metadata": {
    "collapsed": true
   },
   "outputs": [],
   "source": [
    "x_train=np.reshape(x_train,(x_train.shape[0],1,x_train.shape[1]))\n",
    "x_test=np.reshape(x_test,(x_test.shape[0],1,x_test.shape[1]))"
   ]
  },
  {
   "cell_type": "code",
   "execution_count": 65,
   "metadata": {},
   "outputs": [
    {
     "name": "stderr",
     "output_type": "stream",
     "text": [
      "/Users/bochaolu1/anaconda3/envs/data-x/lib/python3.6/site-packages/ipykernel_launcher.py:2: UserWarning: Update your `LSTM` call to the Keras 2 API: `LSTM(128, activation=\"tanh\", input_shape=(1, 1), recurrent_activation=\"hard_sigmoid\")`\n",
      "  \n",
      "/Users/bochaolu1/anaconda3/envs/data-x/lib/python3.6/site-packages/ipykernel_launcher.py:4: UserWarning: Update your `Dense` call to the Keras 2 API: `Dense(activation=\"linear\", units=1)`\n",
      "  after removing the cwd from sys.path.\n",
      "/Users/bochaolu1/anaconda3/envs/data-x/lib/python3.6/site-packages/keras/models.py:942: UserWarning: The `nb_epoch` argument in `fit` has been renamed `epochs`.\n",
      "  warnings.warn('The `nb_epoch` argument in `fit` '\n"
     ]
    },
    {
     "name": "stdout",
     "output_type": "stream",
     "text": [
      "Epoch 1/10\n",
      "8000/8000 [==============================] - 2s 197us/step - loss: 0.3025\n",
      "Epoch 2/10\n",
      "8000/8000 [==============================] - 1s 147us/step - loss: 0.0025\n",
      "Epoch 3/10\n",
      "8000/8000 [==============================] - 1s 145us/step - loss: 0.0023\n",
      "Epoch 4/10\n",
      "8000/8000 [==============================] - 1s 141us/step - loss: 0.0023\n",
      "Epoch 5/10\n",
      "8000/8000 [==============================] - 1s 170us/step - loss: 0.0022\n",
      "Epoch 6/10\n",
      "8000/8000 [==============================] - 1s 142us/step - loss: 0.0022\n",
      "Epoch 7/10\n",
      "8000/8000 [==============================] - 1s 149us/step - loss: 0.0022\n",
      "Epoch 8/10\n",
      "8000/8000 [==============================] - 1s 140us/step - loss: 0.0021\n",
      "Epoch 9/10\n",
      "8000/8000 [==============================] - 1s 141us/step - loss: 0.0021\n",
      "Epoch 10/10\n",
      "8000/8000 [==============================] - 1s 133us/step - loss: 0.0021\n"
     ]
    },
    {
     "data": {
      "text/plain": [
       "<keras.callbacks.History at 0x12e197a90>"
      ]
     },
     "execution_count": 65,
     "metadata": {},
     "output_type": "execute_result"
    }
   ],
   "source": [
    "fit1 = Sequential ()\n",
    "fit1.add (LSTM (  128, activation = 'tanh', inner_activation = 'hard_sigmoid' , input_shape =(1,1) ))\n",
    "fit1.add(Dropout(0.2))\n",
    "fit1.add (Dense (output_dim =1, activation = 'linear'))\n",
    " \n",
    "fit1.compile (loss =\"mean_squared_error\" , optimizer = \"adam\")   \n",
    "fit1.fit (x_train, y_train, batch_size =80, nb_epoch =10, shuffle = False)\n"
   ]
  },
  {
   "cell_type": "code",
   "execution_count": 66,
   "metadata": {},
   "outputs": [
    {
     "data": {
      "text/plain": [
       "[<matplotlib.lines.Line2D at 0x129310da0>]"
      ]
     },
     "execution_count": 66,
     "metadata": {},
     "output_type": "execute_result"
    },
    {
     "data": {
      "image/png": "[encoded data removed]",
      "text/plain": [
       "<matplotlib.figure.Figure at 0x127814080>"
      ]
     },
     "metadata": {},
     "output_type": "display_data"
    }
   ],
   "source": [
    "trainpredict=fit1.predict(x_train)\n",
    "testpredict=fit1.predict(x_test)\n",
    "plt.plot(trainpredict, color='red')\n",
    "plt.plot(y_train,color='blue')"
   ]
  },
  {
   "cell_type": "code",
   "execution_count": 67,
   "metadata": {},
   "outputs": [
    {
     "data": {
      "text/plain": [
       "(8000, 1)"
      ]
     },
     "execution_count": 67,
     "metadata": {},
     "output_type": "execute_result"
    }
   ],
   "source": [
    "trainpredict.shape\n"
   ]
  },
  {
   "cell_type": "code",
   "execution_count": 68,
   "metadata": {
    "collapsed": true
   },
   "outputs": [],
   "source": [
    "#testpredict=testpredict.reshape(len(testpredict),1)\n",
    "#y_test=y_test.reshape(len(y_test),1)\n",
    "#y_train=y_train.reshape(len(y_train),1)\n",
    "\n",
    "trainpredict=scaler_y.inverse_transform(np.array(trainpredict))\n",
    "testpredict=scaler_y.inverse_transform(np.array(testpredict))\n",
    "\n",
    "y_test=scaler_y.inverse_transform(np.array(y_test))\n",
    "y_train=scaler_y.inverse_transform(np.array(y_train))\n",
    "\n",
    "\n"
   ]
  },
  {
   "cell_type": "code",
   "execution_count": 70,
   "metadata": {},
   "outputs": [
    {
     "data": {
      "text/plain": [
       "[<matplotlib.lines.Line2D at 0x128db6828>]"
      ]
     },
     "execution_count": 70,
     "metadata": {},
     "output_type": "execute_result"
    },
    {
     "data": {
      "image/png": "[encoded data removed]",
      "text/plain": [
       "<matplotlib.figure.Figure at 0x128da76d8>"
      ]
     },
     "metadata": {},
     "output_type": "display_data"
    }
   ],
   "source": [
    "plt.plot(trainpredict, color='red')\n",
    "\n",
    "#plt.plot(yy_train, color='red')\n",
    "plt.plot(y_train,color='blue')"
   ]
  },
  {
   "cell_type": "code",
   "execution_count": 71,
   "metadata": {},
   "outputs": [
    {
     "data": {
      "text/plain": [
       "[<matplotlib.lines.Line2D at 0x128dd6588>]"
      ]
     },
     "execution_count": 71,
     "metadata": {},
     "output_type": "execute_result"
    },
    {
     "data": {
      "image/png": "[encoded data removed]",
      "text/plain": [
       "<matplotlib.figure.Figure at 0x128dd6400>"
      ]
     },
     "metadata": {},
     "output_type": "display_data"
    }
   ],
   "source": [
    "plt.plot(testpredict, color='red')\n",
    "\n",
    "#plt.plot(yy_train, color='red')\n",
    "plt.plot(y_test,color='blue')"
   ]
  },
  {
   "cell_type": "code",
   "execution_count": null,
   "metadata": {
    "collapsed": true
   },
   "outputs": [],
   "source": []
  }
 ],
 "metadata": {
  "kernelspec": {
   "display_name": "Python 3",
   "language": "python",
   "name": "python3"
  },
  "language_info": {
   "codemirror_mode": {
    "name": "ipython",
    "version": 3
   },
   "file_extension": ".py",
   "mimetype": "text/x-python",
   "name": "python",
   "nbconvert_exporter": "python",
   "pygments_lexer": "ipython3",
   "version": "3.6.4"
  }
 },
 "nbformat": 4,
 "nbformat_minor": 2
}
