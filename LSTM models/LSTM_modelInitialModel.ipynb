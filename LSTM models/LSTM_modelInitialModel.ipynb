{
 "cells": [
  {
   "cell_type": "code",
   "execution_count": 431,
   "metadata": {
    "collapsed": true
   },
   "outputs": [],
   "source": [
    "# https://machinelearningmastery.com/multivariate-time-series-forecasting-lstms-keras/\n",
    "# Used some of the stuff described in that tutorial"
   ]
  },
  {
   "cell_type": "code",
   "execution_count": 1,
   "metadata": {
    "collapsed": true
   },
   "outputs": [],
   "source": [
    "import pandas as pd\n",
    "import datetime\n",
    "import matplotlib\n",
    "%matplotlib inline\n",
    "import matplotlib.pyplot as plt"
   ]
  },
  {
   "cell_type": "code",
   "execution_count": 3,
   "metadata": {},
   "outputs": [
    {
     "name": "stderr",
     "output_type": "stream",
     "text": [
      "/Users/david/anaconda/lib/python3.6/site-packages/IPython/core/interactiveshell.py:2717: DtypeWarning: Columns (1,2,3,4,5,6,7,8,9,10,11,12,13,14,15,16,17,18,19,20,21,22,23,24,25,26,27,28,29,30,31,32,33,34,35,36) have mixed types. Specify dtype option on import or set low_memory=False.\n",
      "  interactivity=interactivity, compiler=compiler, result=result)\n"
     ]
    }
   ],
   "source": [
    "%run pathtodata.py\n",
    "file_path = os.path.join(pathtodata(), 'poloniex_usdt_pairs.csv')\n",
    "pdf = pd.read_csv(file_path)\n"
   ]
  },
  {
   "cell_type": "code",
   "execution_count": 4,
   "metadata": {
    "collapsed": true
   },
   "outputs": [],
   "source": [
    "new_df = pd.DataFrame(pdf[80000:])\n",
    "new_df = new_df.set_index('Unnamed: 0').apply(lambda x: pd.Series([float(i) for i in x]))"
   ]
  },
  {
   "cell_type": "code",
   "execution_count": 384,
   "metadata": {
    "collapsed": true
   },
   "outputs": [],
   "source": [
    "#The goal is to create a column of 0 and 1 (1 when x(n) - (x(n-1)) > 0) x being bitcoin price\n",
    "growth_binary_arr = [0]\n",
    "for i in range(len(new_df['USDT_BTC.2'])):\n",
    "    if i == 0:\n",
    "        continue\n",
    "    diff = new_df['USDT_BTC.2'][i] - new_df['USDT_BTC.2'][i-1]\n",
    "    bin_res = 1 if diff > 0 else 0\n",
    "    growth_binary_arr.append(bin_res)"
   ]
  },
  {
   "cell_type": "code",
   "execution_count": 385,
   "metadata": {
    "collapsed": true
   },
   "outputs": [],
   "source": [
    "new_df['new'] = growth_binary_arr"
   ]
  },
  {
   "cell_type": "code",
   "execution_count": 386,
   "metadata": {
    "collapsed": true
   },
   "outputs": [],
   "source": [
    "#The goal is to increment 1s so if we have a sequence 1,1,1,1 then we transform in 1,2,3,4\n",
    "#If we have 1,1,1,1,1,0,1,1,0,0,0,1 then we get 1,2,3,4,5,0,1,2,0,0,0,1\n",
    "incremental_index = []\n",
    "for i in range(len(hipso)):\n",
    "    if growth_binary_arr[i] == 0:\n",
    "        incremental_index.append(0)\n",
    "        continue\n",
    "    else:\n",
    "        t = 1\n",
    "        for y in hipso[i+1:]:\n",
    "            if growth_binary_arr[y] == 1:\n",
    "                t += 1\n",
    "            else:\n",
    "                incremental_index.append(t)\n",
    "                break"
   ]
  },
  {
   "cell_type": "code",
   "execution_count": 387,
   "metadata": {
    "collapsed": true
   },
   "outputs": [],
   "source": [
    "new_df['guess'] = hip_new"
   ]
  },
  {
   "cell_type": "code",
   "execution_count": 389,
   "metadata": {},
   "outputs": [
    {
     "data": {
      "text/html": [
       "<div>\n",
       "<style>\n",
       "    .dataframe thead tr:only-child th {\n",
       "        text-align: right;\n",
       "    }\n",
       "\n",
       "    .dataframe thead th {\n",
       "        text-align: left;\n",
       "    }\n",
       "\n",
       "    .dataframe tbody tr th {\n",
       "        vertical-align: top;\n",
       "    }\n",
       "</style>\n",
       "<table border=\"1\" class=\"dataframe\">\n",
       "  <thead>\n",
       "    <tr style=\"text-align: right;\">\n",
       "      <th></th>\n",
       "      <th>USDT_BTC</th>\n",
       "      <th>USDT_BTC.1</th>\n",
       "      <th>USDT_BTC.2</th>\n",
       "      <th>USDT_XRP</th>\n",
       "      <th>USDT_XRP.1</th>\n",
       "      <th>USDT_XRP.2</th>\n",
       "      <th>USDT_BCH</th>\n",
       "      <th>USDT_BCH.1</th>\n",
       "      <th>USDT_BCH.2</th>\n",
       "      <th>USDT_ETH</th>\n",
       "      <th>...</th>\n",
       "      <th>USDT_DASH.1</th>\n",
       "      <th>USDT_DASH.2</th>\n",
       "      <th>USDT_NXT</th>\n",
       "      <th>USDT_NXT.1</th>\n",
       "      <th>USDT_NXT.2</th>\n",
       "      <th>USDT_REP</th>\n",
       "      <th>USDT_REP.1</th>\n",
       "      <th>USDT_REP.2</th>\n",
       "      <th>new</th>\n",
       "      <th>guess</th>\n",
       "    </tr>\n",
       "  </thead>\n",
       "  <tbody>\n",
       "    <tr>\n",
       "      <th>0</th>\n",
       "      <td>15.053280</td>\n",
       "      <td>65297.19387</td>\n",
       "      <td>4337.738729</td>\n",
       "      <td>57147.85376</td>\n",
       "      <td>13414.622650</td>\n",
       "      <td>0.234735</td>\n",
       "      <td>73.150991</td>\n",
       "      <td>25865.666210</td>\n",
       "      <td>353.592832</td>\n",
       "      <td>38.625154</td>\n",
       "      <td>...</td>\n",
       "      <td>199.224148</td>\n",
       "      <td>303.568395</td>\n",
       "      <td>2023.039455</td>\n",
       "      <td>128.837892</td>\n",
       "      <td>0.063685</td>\n",
       "      <td>1.149349</td>\n",
       "      <td>21.814644</td>\n",
       "      <td>18.98</td>\n",
       "      <td>0</td>\n",
       "      <td>0</td>\n",
       "    </tr>\n",
       "    <tr>\n",
       "      <th>1</th>\n",
       "      <td>24.507875</td>\n",
       "      <td>106364.19430</td>\n",
       "      <td>4340.000671</td>\n",
       "      <td>84439.68246</td>\n",
       "      <td>19843.129700</td>\n",
       "      <td>0.234998</td>\n",
       "      <td>27.425880</td>\n",
       "      <td>9660.370833</td>\n",
       "      <td>352.235586</td>\n",
       "      <td>66.808515</td>\n",
       "      <td>...</td>\n",
       "      <td>1305.800852</td>\n",
       "      <td>303.999292</td>\n",
       "      <td>8994.666113</td>\n",
       "      <td>573.991670</td>\n",
       "      <td>0.063815</td>\n",
       "      <td>13.535738</td>\n",
       "      <td>256.908299</td>\n",
       "      <td>18.98</td>\n",
       "      <td>1</td>\n",
       "      <td>1</td>\n",
       "    </tr>\n",
       "    <tr>\n",
       "      <th>2</th>\n",
       "      <td>16.628436</td>\n",
       "      <td>72155.22508</td>\n",
       "      <td>4339.267071</td>\n",
       "      <td>465900.93040</td>\n",
       "      <td>109677.475900</td>\n",
       "      <td>0.235409</td>\n",
       "      <td>37.894933</td>\n",
       "      <td>13405.921630</td>\n",
       "      <td>353.765548</td>\n",
       "      <td>36.444964</td>\n",
       "      <td>...</td>\n",
       "      <td>2119.026539</td>\n",
       "      <td>304.504053</td>\n",
       "      <td>10155.004930</td>\n",
       "      <td>642.226979</td>\n",
       "      <td>0.063242</td>\n",
       "      <td>0.000000</td>\n",
       "      <td>0.000000</td>\n",
       "      <td>18.98</td>\n",
       "      <td>0</td>\n",
       "      <td>0</td>\n",
       "    </tr>\n",
       "    <tr>\n",
       "      <th>3</th>\n",
       "      <td>2.806096</td>\n",
       "      <td>12179.13283</td>\n",
       "      <td>4340.240293</td>\n",
       "      <td>65804.29918</td>\n",
       "      <td>15477.307110</td>\n",
       "      <td>0.235202</td>\n",
       "      <td>12.565475</td>\n",
       "      <td>4420.411268</td>\n",
       "      <td>351.790228</td>\n",
       "      <td>80.702077</td>\n",
       "      <td>...</td>\n",
       "      <td>6.988206</td>\n",
       "      <td>303.999986</td>\n",
       "      <td>5269.807759</td>\n",
       "      <td>335.498228</td>\n",
       "      <td>0.063664</td>\n",
       "      <td>0.000000</td>\n",
       "      <td>0.000000</td>\n",
       "      <td>18.98</td>\n",
       "      <td>1</td>\n",
       "      <td>1</td>\n",
       "    </tr>\n",
       "    <tr>\n",
       "      <th>4</th>\n",
       "      <td>27.612624</td>\n",
       "      <td>119525.40520</td>\n",
       "      <td>4328.650685</td>\n",
       "      <td>21098.09969</td>\n",
       "      <td>4959.193366</td>\n",
       "      <td>0.235054</td>\n",
       "      <td>23.879860</td>\n",
       "      <td>8408.339107</td>\n",
       "      <td>352.110065</td>\n",
       "      <td>8.554216</td>\n",
       "      <td>...</td>\n",
       "      <td>868.777777</td>\n",
       "      <td>303.068305</td>\n",
       "      <td>12639.474680</td>\n",
       "      <td>807.035495</td>\n",
       "      <td>0.063850</td>\n",
       "      <td>0.000000</td>\n",
       "      <td>0.000000</td>\n",
       "      <td>18.98</td>\n",
       "      <td>0</td>\n",
       "      <td>0</td>\n",
       "    </tr>\n",
       "  </tbody>\n",
       "</table>\n",
       "<p>5 rows × 38 columns</p>\n",
       "</div>"
      ],
      "text/plain": [
       "    USDT_BTC    USDT_BTC.1   USDT_BTC.2      USDT_XRP     USDT_XRP.1  \\\n",
       "0  15.053280   65297.19387  4337.738729   57147.85376   13414.622650   \n",
       "1  24.507875  106364.19430  4340.000671   84439.68246   19843.129700   \n",
       "2  16.628436   72155.22508  4339.267071  465900.93040  109677.475900   \n",
       "3   2.806096   12179.13283  4340.240293   65804.29918   15477.307110   \n",
       "4  27.612624  119525.40520  4328.650685   21098.09969    4959.193366   \n",
       "\n",
       "   USDT_XRP.2   USDT_BCH    USDT_BCH.1  USDT_BCH.2   USDT_ETH  ...    \\\n",
       "0    0.234735  73.150991  25865.666210  353.592832  38.625154  ...     \n",
       "1    0.234998  27.425880   9660.370833  352.235586  66.808515  ...     \n",
       "2    0.235409  37.894933  13405.921630  353.765548  36.444964  ...     \n",
       "3    0.235202  12.565475   4420.411268  351.790228  80.702077  ...     \n",
       "4    0.235054  23.879860   8408.339107  352.110065   8.554216  ...     \n",
       "\n",
       "   USDT_DASH.1  USDT_DASH.2      USDT_NXT  USDT_NXT.1  USDT_NXT.2   USDT_REP  \\\n",
       "0   199.224148   303.568395   2023.039455  128.837892    0.063685   1.149349   \n",
       "1  1305.800852   303.999292   8994.666113  573.991670    0.063815  13.535738   \n",
       "2  2119.026539   304.504053  10155.004930  642.226979    0.063242   0.000000   \n",
       "3     6.988206   303.999986   5269.807759  335.498228    0.063664   0.000000   \n",
       "4   868.777777   303.068305  12639.474680  807.035495    0.063850   0.000000   \n",
       "\n",
       "   USDT_REP.1  USDT_REP.2  new  guess  \n",
       "0   21.814644       18.98    0      0  \n",
       "1  256.908299       18.98    1      1  \n",
       "2    0.000000       18.98    0      0  \n",
       "3    0.000000       18.98    1      1  \n",
       "4    0.000000       18.98    0      0  \n",
       "\n",
       "[5 rows x 38 columns]"
      ]
     },
     "execution_count": 389,
     "metadata": {},
     "output_type": "execute_result"
    }
   ],
   "source": [
    "new_df.head(5)"
   ]
  },
  {
   "cell_type": "code",
   "execution_count": 390,
   "metadata": {
    "collapsed": true
   },
   "outputs": [],
   "source": [
    "new_df = new_df.fillna(0)"
   ]
  },
  {
   "cell_type": "code",
   "execution_count": 433,
   "metadata": {
    "collapsed": true
   },
   "outputs": [],
   "source": [
    "from sklearn.preprocessing import MinMaxScaler\n",
    "from sklearn.preprocessing import LabelEncoder\n",
    "from sklearn.metrics import mean_squared_error\n",
    "from sklearn import linear_model\n",
    "from keras.models import Sequential\n",
    "from keras.layers import Dense, Flatten, Dropout\n",
    "from keras.layers import LSTM\n",
    "import numpy as np\n"
   ]
  },
  {
   "cell_type": "code",
   "execution_count": 393,
   "metadata": {
    "collapsed": true
   },
   "outputs": [],
   "source": [
    "scaler = MinMaxScaler()\n",
    "scaler.fit(new_df.values)\n",
    "data_train = scaler.transform(new_df.values)"
   ]
  },
  {
   "cell_type": "code",
   "execution_count": 322,
   "metadata": {},
   "outputs": [
    {
     "name": "stdout",
     "output_type": "stream",
     "text": [
      "Epoch 1/1\n",
      "45392/45392 [==============================] - 47s 1ms/step - loss: 0.2396 - acc: 0.4878\n",
      "45392/45392 [==============================] - 4s 82us/step\n",
      "\n",
      "Loss: 0.24, Accuracy: 48.78%\n"
     ]
    }
   ],
   "source": [
    "\n",
    "# load and prepare the dataset\n",
    "X_train = numpy.reshape(data_train, (data_train.shape[0], 1, data_train.shape[1]))\n",
    "\n",
    "X = X_train[:,0,:-2]\n",
    "Y = X_train[:,0,-1]\n",
    "#X_test = np.reshape(X_test, (X_test.shape[0], 1, X_test.shape[1]))\n",
    "# 1. define the network\n",
    "model = Sequential()\n",
    "model.add(Dense(50, input_dim=36, activation='relu'))\n",
    "model.add(Dense(50, activation='relu'))\n",
    "#model.add(LSTM(5))\n",
    "model.add(Dense(1, activation='sigmoid'))\n",
    "# 2. compile the network\n",
    "model.compile(loss='binary_crossentropy', optimizer='adam', metrics=['accuracy'])\n",
    "# 3. fit the network\n",
    "history = model.fit(X, Y, epochs=1, batch_size=5)\n",
    "# 4. evaluate the network\n",
    "loss, accuracy = model.evaluate(X, Y)\n",
    "print(\"\\nLoss: %.2f, Accuracy: %.2f%%\" % (loss, accuracy*100))\n",
    "# 5. make predictions\n",
    "probabilities = model.predict(X)\n",
    "#predictions = [float(round(x)) for x in probabilities]\n",
    "#accuracy = numpy.mean(predictions == Y)\n",
    "#print(\"Prediction Accuracy: %.2f%%\" % (accuracy*100))"
   ]
  },
  {
   "cell_type": "code",
   "execution_count": 400,
   "metadata": {},
   "outputs": [
    {
     "name": "stderr",
     "output_type": "stream",
     "text": [
      "/Users/david/anaconda/lib/python3.6/site-packages/ipykernel_launcher.py:6: RuntimeWarning: divide by zero encountered in true_divide\n",
      "  \n",
      "/Users/david/anaconda/lib/python3.6/site-packages/ipykernel_launcher.py:6: RuntimeWarning: invalid value encountered in true_divide\n",
      "  \n"
     ]
    }
   ],
   "source": [
    "#Getting all the columns beside the last 2 in term of growth\n",
    "df_growth = pd.DataFrame()\n",
    "add = np.array(pdf.columns)[1:-2]\n",
    "from numpy import inf, nan\n",
    "for i in add:\n",
    "    bitcoin_price = np.array(new_df[i])[:-2]\n",
    "    diff_bit_price = np.diff(bitcoin_price)/bitcoin_price[:-1]\n",
    "    append_diff = np.append(diff_bit_price[0], diff_bit_price)\n",
    "    #series = pd.Series(append_diff).apply(lambda x: 1 if x > 0 else 0)\n",
    "    append_diff[append_diff == inf] = 0\n",
    "    append_diff[np.isnan(append_diff)] = 0\n",
    "    df_growth[i +'gd'] = append_diff\n",
    "    "
   ]
  },
  {
   "cell_type": "code",
   "execution_count": 401,
   "metadata": {
    "collapsed": true
   },
   "outputs": [],
   "source": [
    "df_growth['new'] = new_df['new']\n",
    "df_growth['guess'] = new_df['guess']"
   ]
  },
  {
   "cell_type": "code",
   "execution_count": 402,
   "metadata": {
    "collapsed": true
   },
   "outputs": [],
   "source": [
    "from sklearn.cross_validation import train_test_split\n",
    "from sklearn.linear_model import LogisticRegression\n",
    "from sklearn import preprocessing\n",
    "from sklearn import utils"
   ]
  },
  {
   "cell_type": "code",
   "execution_count": 446,
   "metadata": {
    "collapsed": true
   },
   "outputs": [],
   "source": [
    "scaler = MinMaxScaler()\n",
    "#hii = scaler.fit_transform(hii.values)\n",
    "scaled = scaler.fit_transform(df_growth.values)\n",
    "X = scaled[:,3:-5]\n",
    "Y = scaled[:,-1]\n",
    "train_X, test_X, train_y, test_y = train_test_split(X, Y, train_size=0.95, random_state=None)"
   ]
  },
  {
   "cell_type": "code",
   "execution_count": 420,
   "metadata": {},
   "outputs": [
    {
     "data": {
      "text/plain": [
       "array([[  6.90781774e-03,   6.88664981e-03,   4.72058785e-01, ...,\n",
       "          8.76991832e-09,   0.00000000e+00,   0.00000000e+00],\n",
       "       [  6.90781774e-03,   6.88664981e-03,   4.72058785e-01, ...,\n",
       "          8.76991832e-09,   1.00000000e+00,   5.55555556e-02],\n",
       "       [  2.87880393e-03,   2.86800163e-03,   4.66348956e-01, ...,\n",
       "          0.00000000e+00,   0.00000000e+00,   0.00000000e+00],\n",
       "       ..., \n",
       "       [  9.10287600e-04,   9.04672620e-04,   4.46298565e-01, ...,\n",
       "          7.44672894e-10,   0.00000000e+00,   0.00000000e+00],\n",
       "       [  2.89585170e-02,   2.88880678e-02,   4.77300274e-01, ...,\n",
       "          7.44672894e-10,   1.00000000e+00,   1.66666667e-01],\n",
       "       [  3.90044550e-03,   3.89237835e-03,   4.80325240e-01, ...,\n",
       "          7.44672894e-10,   1.00000000e+00,   1.11111111e-01]])"
      ]
     },
     "execution_count": 420,
     "metadata": {},
     "output_type": "execute_result"
    }
   ],
   "source": [
    "scaled"
   ]
  },
  {
   "cell_type": "code",
   "execution_count": 422,
   "metadata": {},
   "outputs": [
    {
     "name": "stdout",
     "output_type": "stream",
     "text": [
      "Test fraction correct (Accuracy) = -0.44\n"
     ]
    }
   ],
   "source": [
    "#Goal: Accuracy for linear regression\n",
    "lab_enc = preprocessing.LabelEncoder()\n",
    "lr = linear_model.LinearRegression()\n",
    "lr.fit(train_X, train_y)\n",
    "pred_y = lr.predict(test_X)\n",
    "print(\"Test fraction correct (Accuracy) = {:.2f}\".format(lr.score(test_X, encoded_test)))"
   ]
  },
  {
   "cell_type": "code",
   "execution_count": 424,
   "metadata": {},
   "outputs": [
    {
     "name": "stderr",
     "output_type": "stream",
     "text": [
      "/Users/david/anaconda/lib/python3.6/site-packages/sklearn/model_selection/_split.py:581: Warning: The least populated class in y has only 1 members, which is too few. The minimum number of groups for any class cannot be less than n_splits=2.\n",
      "  % (min_groups, self.n_splits)), Warning)\n"
     ]
    },
    {
     "name": "stdout",
     "output_type": "stream",
     "text": [
      "Epoch 1/1\n",
      "22693/22693 [==============================] - 7s 303us/step - loss: 0.0774 - acc: 0.4878\n",
      "Epoch 1/1\n",
      "22697/22697 [==============================] - 6s 277us/step - loss: 0.0786 - acc: 0.4837\n"
     ]
    }
   ],
   "source": [
    "#Goal: Loss and accurancy using Keras Dense NN  \n",
    "#n_plits epochs should be increased for better result (5,10)\n",
    "from sklearn.model_selection import StratifiedKFold\n",
    "seed = 7\n",
    "np.random.seed(seed)\n",
    "\n",
    "kfold = StratifiedKFold(n_splits=2, shuffle=True, random_state=seed)\n",
    "for train, test in kfold.split(X, Y):\n",
    "    model = Sequential()\n",
    "    model.add(Dense(64, input_dim=28, activation='relu'))\n",
    "    model.add(Dense(16, activation='relu'))\n",
    "    model.add(Dense(1, activation='sigmoid'))  \n",
    "    model.compile(optimizer='adam', loss='mae', metrics=['accuracy'])\n",
    "    model.fit(X[train], Y[train], epochs=1, verbose=1)"
   ]
  },
  {
   "cell_type": "code",
   "execution_count": 425,
   "metadata": {
    "collapsed": true
   },
   "outputs": [],
   "source": [
    "#This is not needed if data in numpy but needed if in Panda frame\n",
    "train_X = np.array(train_X)\n",
    "test_X = np.array(test_X)"
   ]
  },
  {
   "cell_type": "code",
   "execution_count": 454,
   "metadata": {},
   "outputs": [
    {
     "ename": "ValueError",
     "evalue": "cannot reshape array of size 1207360 into shape (43120,1,1)",
     "output_type": "error",
     "traceback": [
      "\u001b[0;31m---------------------------------------------------------------------------\u001b[0m",
      "\u001b[0;31mValueError\u001b[0m                                Traceback (most recent call last)",
      "\u001b[0;32m<ipython-input-454-688f8ce19960>\u001b[0m in \u001b[0;36m<module>\u001b[0;34m()\u001b[0m\n\u001b[1;32m      1\u001b[0m \u001b[0;31m#Goal: Reshape in 3D to fit the LSTM\u001b[0m\u001b[0;34m\u001b[0m\u001b[0;34m\u001b[0m\u001b[0m\n\u001b[0;32m----> 2\u001b[0;31m \u001b[0mtrain_X\u001b[0m \u001b[0;34m=\u001b[0m \u001b[0mtrain_X\u001b[0m\u001b[0;34m.\u001b[0m\u001b[0mreshape\u001b[0m\u001b[0;34m(\u001b[0m\u001b[0;34m(\u001b[0m\u001b[0mtrain_X\u001b[0m\u001b[0;34m.\u001b[0m\u001b[0mshape\u001b[0m\u001b[0;34m[\u001b[0m\u001b[0;36m0\u001b[0m\u001b[0;34m]\u001b[0m\u001b[0;34m,\u001b[0m \u001b[0;36m1\u001b[0m\u001b[0;34m,\u001b[0m \u001b[0mtrain_X\u001b[0m\u001b[0;34m.\u001b[0m\u001b[0mshape\u001b[0m\u001b[0;34m[\u001b[0m\u001b[0;36m1\u001b[0m\u001b[0;34m]\u001b[0m\u001b[0;34m)\u001b[0m\u001b[0;34m)\u001b[0m\u001b[0;34m\u001b[0m\u001b[0m\n\u001b[0m\u001b[1;32m      3\u001b[0m \u001b[0mtest_X\u001b[0m \u001b[0;34m=\u001b[0m \u001b[0mtest_X\u001b[0m\u001b[0;34m.\u001b[0m\u001b[0mreshape\u001b[0m\u001b[0;34m(\u001b[0m\u001b[0;34m(\u001b[0m\u001b[0mtest_X\u001b[0m\u001b[0;34m.\u001b[0m\u001b[0mshape\u001b[0m\u001b[0;34m[\u001b[0m\u001b[0;36m0\u001b[0m\u001b[0;34m]\u001b[0m\u001b[0;34m,\u001b[0m \u001b[0;36m1\u001b[0m\u001b[0;34m,\u001b[0m \u001b[0mtest_X\u001b[0m\u001b[0;34m.\u001b[0m\u001b[0mshape\u001b[0m\u001b[0;34m[\u001b[0m\u001b[0;36m1\u001b[0m\u001b[0;34m]\u001b[0m\u001b[0;34m)\u001b[0m\u001b[0;34m)\u001b[0m\u001b[0;34m\u001b[0m\u001b[0m\n\u001b[1;32m      4\u001b[0m \u001b[0mprint\u001b[0m\u001b[0;34m(\u001b[0m\u001b[0mtrain_X\u001b[0m\u001b[0;34m.\u001b[0m\u001b[0mshape\u001b[0m\u001b[0;34m,\u001b[0m \u001b[0mtrain_y\u001b[0m\u001b[0;34m.\u001b[0m\u001b[0mshape\u001b[0m\u001b[0;34m,\u001b[0m \u001b[0mtest_X\u001b[0m\u001b[0;34m.\u001b[0m\u001b[0mshape\u001b[0m\u001b[0;34m,\u001b[0m \u001b[0mtest_y\u001b[0m\u001b[0;34m.\u001b[0m\u001b[0mshape\u001b[0m\u001b[0;34m)\u001b[0m\u001b[0;34m\u001b[0m\u001b[0m\n",
      "\u001b[0;31mValueError\u001b[0m: cannot reshape array of size 1207360 into shape (43120,1,1)"
     ]
    }
   ],
   "source": [
    "#Goal: Reshape in 3D to fit the LSTM\n",
    "train_X = train_X.reshape((train_X.shape[0], 1, train_X.shape[1]))\n",
    "test_X = test_X.reshape((test_X.shape[0], 1, test_X.shape[1]))\n",
    "print(train_X.shape, train_y.shape, test_X.shape, test_y.shape)"
   ]
  },
  {
   "cell_type": "code",
   "execution_count": 467,
   "metadata": {
    "collapsed": true
   },
   "outputs": [],
   "source": [
    "#return_sequences=True\n",
    "model = Sequential()\n",
    "model.add(LSTM(32, input_shape=(train_X.shape[1], train_X.shape[2]),return_sequences=True))\n",
    "model.add(Dropout(0.3))\n",
    "model.add(LSTM(32, return_sequences=True))\n",
    "model.add(Dropout(0.3))\n",
    "model.add(LSTM(32))\n",
    "#model.add(Dense(256))\n",
    "#model.add(Dropout(0.3))\n",
    "model.add(Dense(1))\n",
    "model.compile(loss='mae', optimizer='adam')"
   ]
  },
  {
   "cell_type": "code",
   "execution_count": 468,
   "metadata": {
    "scrolled": true
   },
   "outputs": [
    {
     "name": "stdout",
     "output_type": "stream",
     "text": [
      "Train on 43120 samples, validate on 2270 samples\n",
      "Epoch 1/10\n",
      " - 30s - loss: 0.0596 - val_loss: 0.0590\n",
      "Epoch 2/10\n",
      " - 26s - loss: 0.0577 - val_loss: 0.0583\n",
      "Epoch 3/10\n",
      " - 26s - loss: 0.0575 - val_loss: 0.0586\n",
      "Epoch 4/10\n",
      " - 28s - loss: 0.0573 - val_loss: 0.0586\n",
      "Epoch 5/10\n",
      " - 26s - loss: 0.0566 - val_loss: 0.0575\n",
      "Epoch 6/10\n",
      " - 24s - loss: 0.0554 - val_loss: 0.0561\n",
      "Epoch 7/10\n",
      " - 23s - loss: 0.0546 - val_loss: 0.0550\n",
      "Epoch 8/10\n",
      " - 24s - loss: 0.0541 - val_loss: 0.0545\n",
      "Epoch 9/10\n",
      " - 23s - loss: 0.0538 - val_loss: 0.0545\n",
      "Epoch 10/10\n",
      " - 24s - loss: 0.0534 - val_loss: 0.0544\n"
     ]
    }
   ],
   "source": [
    "history = model.fit(train_X, train_y, epochs=10, batch_size=32, validation_data=(test_X, test_y), verbose=2, shuffle=False)"
   ]
  },
  {
   "cell_type": "code",
   "execution_count": 469,
   "metadata": {},
   "outputs": [
    {
     "data": {
      "image/png": "[encoded data removed]",
      "text/plain": [
       "<matplotlib.figure.Figure at 0x19af6b160>"
      ]
     },
     "metadata": {},
     "output_type": "display_data"
    }
   ],
   "source": [
    "pyplot.plot(history.history['loss'], label='train')\n",
    "pyplot.plot(history.history['val_loss'], label='test')\n",
    "pyplot.legend()\n",
    "pyplot.show()"
   ]
  },
  {
   "cell_type": "code",
   "execution_count": 429,
   "metadata": {},
   "outputs": [
    {
     "data": {
      "image/png": "[encoded data removed]",
      "text/plain": [
       "<matplotlib.figure.Figure at 0x1654dab00>"
      ]
     },
     "metadata": {},
     "output_type": "display_data"
    }
   ],
   "source": [
    "#So this is produced by the lat iteneration\n",
    "pyplot.plot(history.history['loss'], label='train')\n",
    "pyplot.plot(history.history['val_loss'], label='test')\n",
    "pyplot.legend()\n",
    "pyplot.show()"
   ]
  },
  {
   "cell_type": "code",
   "execution_count": 417,
   "metadata": {},
   "outputs": [
    {
     "data": {
      "image/png": "[encoded data removed]",
      "text/plain": [
       "<matplotlib.figure.Figure at 0x14b670438>"
      ]
     },
     "metadata": {},
     "output_type": "display_data"
    }
   ],
   "source": [
    "#This was produced with the data not scaled using MaxMin\n",
    "pyplot.plot(history.history['loss'], label='train')\n",
    "pyplot.plot(history.history['val_loss'], label='test')\n",
    "pyplot.legend()\n",
    "pyplot.show()"
   ]
  },
  {
   "cell_type": "code",
   "execution_count": 364,
   "metadata": {},
   "outputs": [
    {
     "data": {
      "image/png": "[encoded data removed]",
      "text/plain": [
       "<matplotlib.figure.Figure at 0x11fc72d68>"
      ]
     },
     "metadata": {},
     "output_type": "display_data"
    }
   ],
   "source": [
    "#This was produced with MaxMin and encoded data\n",
    "from matplotlib import pyplot\n",
    "pyplot.plot(history.history['loss'], label='train')\n",
    "pyplot.plot(history.history['val_loss'], label='test')\n",
    "pyplot.legend()\n",
    "pyplot.show()"
   ]
  },
  {
   "cell_type": "code",
   "execution_count": 470,
   "metadata": {
    "collapsed": true
   },
   "outputs": [],
   "source": [
    "yhat = model.predict(test_X)"
   ]
  },
  {
   "cell_type": "code",
   "execution_count": 471,
   "metadata": {},
   "outputs": [
    {
     "data": {
      "text/plain": [
       "array([[ 0.00159792],\n",
       "       [ 0.0211197 ],\n",
       "       [ 0.08997662],\n",
       "       ..., \n",
       "       [ 0.09377536],\n",
       "       [ 0.07198402],\n",
       "       [ 0.09891393]], dtype=float32)"
      ]
     },
     "execution_count": 471,
     "metadata": {},
     "output_type": "execute_result"
    }
   ],
   "source": [
    "yhat"
   ]
  },
  {
   "cell_type": "code",
   "execution_count": 472,
   "metadata": {
    "scrolled": true
   },
   "outputs": [
    {
     "data": {
      "text/plain": [
       "array([ 0.        ,  0.        ,  0.16666667, ...,  0.05555556,\n",
       "        0.16666667,  0.22222222])"
      ]
     },
     "execution_count": 472,
     "metadata": {},
     "output_type": "execute_result"
    }
   ],
   "source": [
    "test_y"
   ]
  },
  {
   "cell_type": "code",
   "execution_count": 473,
   "metadata": {
    "collapsed": true
   },
   "outputs": [],
   "source": [
    "test_X = test_X.reshape((test_X.shape[0], test_X.shape[2]))\n",
    "# invert scaling for forecast\n",
    "inv_yhat = np.concatenate((yhat, test_X[:, 1:]), axis=1)"
   ]
  },
  {
   "cell_type": "code",
   "execution_count": 29,
   "metadata": {},
   "outputs": [
    {
     "data": {
      "text/plain": [
       "[<matplotlib.lines.Line2D at 0x112f67240>]"
      ]
     },
     "execution_count": 29,
     "metadata": {},
     "output_type": "execute_result"
    },
    {
     "data": {
      "image/png": "[encoded data removed]",
      "text/plain": [
       "<matplotlib.figure.Figure at 0x112f67d30>"
      ]
     },
     "metadata": {},
     "output_type": "display_data"
    }
   ],
   "source": [
    "import numpy as np\n",
    "plt.plot(new_df.iloc[:2016,2]-4200)\n",
    "plt.plot(npm)"
   ]
  },
  {
   "cell_type": "code",
   "execution_count": 37,
   "metadata": {},
   "outputs": [
    {
     "data": {
      "text/plain": [
       "[<matplotlib.lines.Line2D at 0x113f2eac8>]"
      ]
     },
     "execution_count": 37,
     "metadata": {},
     "output_type": "execute_result"
    },
    {
     "data": {
      "image/png": "[encoded data removed]",
      "text/plain": [
       "<matplotlib.figure.Figure at 0x113f9e400>"
      ]
     },
     "metadata": {},
     "output_type": "display_data"
    }
   ],
   "source": [
    "sd = np.std(new_df.iloc[25000:25000+2016,2])\n",
    "plt.plot(new_df.iloc[35000:35000+2016,2])"
   ]
  },
  {
   "cell_type": "code",
   "execution_count": 38,
   "metadata": {
    "collapsed": true
   },
   "outputs": [],
   "source": [
    "npm = np.diff(new_df.iloc[35000:35000+2016,2])"
   ]
  },
  {
   "cell_type": "code",
   "execution_count": 39,
   "metadata": {},
   "outputs": [
    {
     "data": {
      "text/plain": [
       "[<matplotlib.lines.Line2D at 0x114714128>]"
      ]
     },
     "execution_count": 39,
     "metadata": {},
     "output_type": "execute_result"
    },
    {
     "data": {
      "image/png": "[encoded data removed]",
      "text/plain": [
       "<matplotlib.figure.Figure at 0x1139a8080>"
      ]
     },
     "metadata": {},
     "output_type": "display_data"
    }
   ],
   "source": [
    "plt.plot(npm/sd)"
   ]
  },
  {
   "cell_type": "code",
   "execution_count": null,
   "metadata": {
    "collapsed": true
   },
   "outputs": [],
   "source": []
  },
  {
   "cell_type": "code",
   "execution_count": null,
   "metadata": {
    "collapsed": true
   },
   "outputs": [],
   "source": []
  }
 ],
 "metadata": {
  "kernelspec": {
   "display_name": "Python 3",
   "language": "python",
   "name": "python3"
  },
  "language_info": {
   "codemirror_mode": {
    "name": "ipython",
    "version": 3
   },
   "file_extension": ".py",
   "mimetype": "text/x-python",
   "name": "python",
   "nbconvert_exporter": "python",
   "pygments_lexer": "ipython3",
   "version": "3.6.5"
  }
 },
 "nbformat": 4,
 "nbformat_minor": 2
}
