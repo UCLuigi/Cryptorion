{
 "cells": [
  {
   "cell_type": "code",
   "execution_count": 2,
   "metadata": {},
   "outputs": [
    {
     "name": "stderr",
     "output_type": "stream",
     "text": [
      "Using TensorFlow backend.\n"
     ]
    }
   ],
   "source": [
    "import numpy as np\n",
    "import pandas as pd\n",
    "import matplotlib.pyplot as plt\n",
    "%matplotlib inline\n",
    "\n",
    "from sklearn import datasets\n",
    "from sklearn.model_selection import train_test_split\n",
    "\n",
    "import pandas as pd\n",
    "\n",
    "from keras.models import Sequential\n",
    "from keras.layers import Dense\n",
    "from keras.layers.recurrent import LSTM\n",
    "from keras.models import Sequential\n",
    "from sklearn.preprocessing import MinMaxScaler\n",
    "from keras.layers.core import Dense, Activation, Dropout\n",
    "\n",
    "from numpy import newaxis\n"
   ]
  },
  {
   "cell_type": "code",
   "execution_count": 7,
   "metadata": {},
   "outputs": [
    {
     "name": "stderr",
     "output_type": "stream",
     "text": [
      "/Users/david/anaconda/lib/python3.6/site-packages/IPython/core/interactiveshell.py:2785: DtypeWarning: Columns (1,2,3,4,5,6,7,8,9,10,11,12,13,14,15,16,17,18,19,20,21,22,23,24,25,26,27,28,29,30,31,32,33,34,35,36) have mixed types. Specify dtype option on import or set low_memory=False.\n",
      "  interactivity=interactivity, compiler=compiler, result=result)\n"
     ]
    }
   ],
   "source": [
    "%run pathtodata.py\n",
    "file_path = os.path.join(pathtodata(), 'poloniex_usdt_pairs.csv')\n",
    "pdf = pd.read_csv(file_path)\n",
    "\n"
   ]
  },
  {
   "cell_type": "code",
   "execution_count": 24,
   "metadata": {},
   "outputs": [
    {
     "data": {
      "text/html": [
       "<div>\n",
       "<style scoped>\n",
       "    .dataframe tbody tr th:only-of-type {\n",
       "        vertical-align: middle;\n",
       "    }\n",
       "\n",
       "    .dataframe tbody tr th {\n",
       "        vertical-align: top;\n",
       "    }\n",
       "\n",
       "    .dataframe thead th {\n",
       "        text-align: right;\n",
       "    }\n",
       "</style>\n",
       "<table border=\"1\" class=\"dataframe\">\n",
       "  <thead>\n",
       "    <tr style=\"text-align: right;\">\n",
       "      <th></th>\n",
       "      <th>Unnamed: 0</th>\n",
       "      <th>USDT_BTC</th>\n",
       "      <th>USDT_BTC.1</th>\n",
       "      <th>USDT_BTC.2</th>\n",
       "      <th>USDT_XRP</th>\n",
       "      <th>USDT_XRP.1</th>\n",
       "      <th>USDT_XRP.2</th>\n",
       "      <th>USDT_BCH</th>\n",
       "      <th>USDT_BCH.1</th>\n",
       "      <th>USDT_BCH.2</th>\n",
       "      <th>...</th>\n",
       "      <th>USDT_ZEC.2</th>\n",
       "      <th>USDT_DASH</th>\n",
       "      <th>USDT_DASH.1</th>\n",
       "      <th>USDT_DASH.2</th>\n",
       "      <th>USDT_NXT</th>\n",
       "      <th>USDT_NXT.1</th>\n",
       "      <th>USDT_NXT.2</th>\n",
       "      <th>USDT_REP</th>\n",
       "      <th>USDT_REP.1</th>\n",
       "      <th>USDT_REP.2</th>\n",
       "    </tr>\n",
       "  </thead>\n",
       "  <tbody>\n",
       "    <tr>\n",
       "      <th>0</th>\n",
       "      <td>NaN</td>\n",
       "      <td>quoteVolume</td>\n",
       "      <td>volume</td>\n",
       "      <td>price</td>\n",
       "      <td>quoteVolume</td>\n",
       "      <td>volume</td>\n",
       "      <td>price</td>\n",
       "      <td>quoteVolume</td>\n",
       "      <td>volume</td>\n",
       "      <td>price</td>\n",
       "      <td>...</td>\n",
       "      <td>price</td>\n",
       "      <td>quoteVolume</td>\n",
       "      <td>volume</td>\n",
       "      <td>price</td>\n",
       "      <td>quoteVolume</td>\n",
       "      <td>volume</td>\n",
       "      <td>price</td>\n",
       "      <td>quoteVolume</td>\n",
       "      <td>volume</td>\n",
       "      <td>price</td>\n",
       "    </tr>\n",
       "    <tr>\n",
       "      <th>1</th>\n",
       "      <td>2017-01-01 00:00:00</td>\n",
       "      <td>5.59672254</td>\n",
       "      <td>5398.83711674</td>\n",
       "      <td>964.64262399</td>\n",
       "      <td>1569.50520479</td>\n",
       "      <td>10.17706057</td>\n",
       "      <td>0.0064842400000000005</td>\n",
       "      <td>NaN</td>\n",
       "      <td>NaN</td>\n",
       "      <td>NaN</td>\n",
       "      <td>...</td>\n",
       "      <td>48.03006375</td>\n",
       "      <td>0.31177786</td>\n",
       "      <td>3.53187151</td>\n",
       "      <td>11.32816651</td>\n",
       "      <td>0.0</td>\n",
       "      <td>0.0</td>\n",
       "      <td>0.0058979900000000005</td>\n",
       "      <td>4.4515247</td>\n",
       "      <td>16.99118095</td>\n",
       "      <td>3.81693511</td>\n",
       "    </tr>\n",
       "    <tr>\n",
       "      <th>2</th>\n",
       "      <td>2017-01-01 00:05:00</td>\n",
       "      <td>0.0872821</td>\n",
       "      <td>84.30211763</td>\n",
       "      <td>965.85803538</td>\n",
       "      <td>0.0</td>\n",
       "      <td>0.0</td>\n",
       "      <td>0.00648653</td>\n",
       "      <td>NaN</td>\n",
       "      <td>NaN</td>\n",
       "      <td>NaN</td>\n",
       "      <td>...</td>\n",
       "      <td>47.99598877</td>\n",
       "      <td>0.0</td>\n",
       "      <td>0.0</td>\n",
       "      <td>11.34</td>\n",
       "      <td>3.74928786</td>\n",
       "      <td>0.02214978</td>\n",
       "      <td>0.00590773</td>\n",
       "      <td>0.6274922900000001</td>\n",
       "      <td>2.40788429</td>\n",
       "      <td>3.8373129500000003</td>\n",
       "    </tr>\n",
       "    <tr>\n",
       "      <th>3</th>\n",
       "      <td>2017-01-01 00:10:00</td>\n",
       "      <td>2.73736768</td>\n",
       "      <td>2638.6761714</td>\n",
       "      <td>963.94656468</td>\n",
       "      <td>0.0</td>\n",
       "      <td>0.0</td>\n",
       "      <td>0.00648653</td>\n",
       "      <td>NaN</td>\n",
       "      <td>NaN</td>\n",
       "      <td>NaN</td>\n",
       "      <td>...</td>\n",
       "      <td>47.87084582</td>\n",
       "      <td>0.0</td>\n",
       "      <td>0.0</td>\n",
       "      <td>11.34</td>\n",
       "      <td>0.0</td>\n",
       "      <td>0.0</td>\n",
       "      <td>0.00590773</td>\n",
       "      <td>0.0</td>\n",
       "      <td>0.0</td>\n",
       "      <td>3.8373129500000003</td>\n",
       "    </tr>\n",
       "    <tr>\n",
       "      <th>4</th>\n",
       "      <td>2017-01-01 00:15:00</td>\n",
       "      <td>3.55008694</td>\n",
       "      <td>3415.27230881</td>\n",
       "      <td>962.02497756</td>\n",
       "      <td>0.0</td>\n",
       "      <td>0.0</td>\n",
       "      <td>0.00648653</td>\n",
       "      <td>NaN</td>\n",
       "      <td>NaN</td>\n",
       "      <td>NaN</td>\n",
       "      <td>...</td>\n",
       "      <td>47.87084582</td>\n",
       "      <td>0.02109787</td>\n",
       "      <td>0.23851219</td>\n",
       "      <td>11.30503661</td>\n",
       "      <td>0.0</td>\n",
       "      <td>0.0</td>\n",
       "      <td>0.00590773</td>\n",
       "      <td>0.0</td>\n",
       "      <td>0.0</td>\n",
       "      <td>3.8373129500000003</td>\n",
       "    </tr>\n",
       "  </tbody>\n",
       "</table>\n",
       "<p>5 rows × 37 columns</p>\n",
       "</div>"
      ],
      "text/plain": [
       "            Unnamed: 0     USDT_BTC     USDT_BTC.1    USDT_BTC.2  \\\n",
       "0                  NaN  quoteVolume         volume         price   \n",
       "1  2017-01-01 00:00:00   5.59672254  5398.83711674  964.64262399   \n",
       "2  2017-01-01 00:05:00    0.0872821    84.30211763  965.85803538   \n",
       "3  2017-01-01 00:10:00   2.73736768   2638.6761714  963.94656468   \n",
       "4  2017-01-01 00:15:00   3.55008694  3415.27230881  962.02497756   \n",
       "\n",
       "        USDT_XRP   USDT_XRP.1             USDT_XRP.2     USDT_BCH USDT_BCH.1  \\\n",
       "0    quoteVolume       volume                  price  quoteVolume     volume   \n",
       "1  1569.50520479  10.17706057  0.0064842400000000005          NaN        NaN   \n",
       "2            0.0          0.0             0.00648653          NaN        NaN   \n",
       "3            0.0          0.0             0.00648653          NaN        NaN   \n",
       "4            0.0          0.0             0.00648653          NaN        NaN   \n",
       "\n",
       "  USDT_BCH.2         ...           USDT_ZEC.2    USDT_DASH USDT_DASH.1  \\\n",
       "0      price         ...                price  quoteVolume      volume   \n",
       "1        NaN         ...          48.03006375   0.31177786  3.53187151   \n",
       "2        NaN         ...          47.99598877          0.0         0.0   \n",
       "3        NaN         ...          47.87084582          0.0         0.0   \n",
       "4        NaN         ...          47.87084582   0.02109787  0.23851219   \n",
       "\n",
       "   USDT_DASH.2     USDT_NXT  USDT_NXT.1             USDT_NXT.2  \\\n",
       "0        price  quoteVolume      volume                  price   \n",
       "1  11.32816651          0.0         0.0  0.0058979900000000005   \n",
       "2        11.34   3.74928786  0.02214978             0.00590773   \n",
       "3        11.34          0.0         0.0             0.00590773   \n",
       "4  11.30503661          0.0         0.0             0.00590773   \n",
       "\n",
       "             USDT_REP   USDT_REP.1          USDT_REP.2  \n",
       "0         quoteVolume       volume               price  \n",
       "1           4.4515247  16.99118095          3.81693511  \n",
       "2  0.6274922900000001   2.40788429  3.8373129500000003  \n",
       "3                 0.0          0.0  3.8373129500000003  \n",
       "4                 0.0          0.0  3.8373129500000003  \n",
       "\n",
       "[5 rows x 37 columns]"
      ]
     },
     "execution_count": 24,
     "metadata": {},
     "output_type": "execute_result"
    }
   ],
   "source": [
    "pdf.head()\n",
    "#new_df = pd.DataFrame(pdf[80000:])\n",
    "#new_df = pdf.set_index('Unnamed: 0').apply(lambda x: pd.Series([float(i) for i in x]))\n",
    "#new_df.head()"
   ]
  },
  {
   "cell_type": "code",
   "execution_count": 25,
   "metadata": {},
   "outputs": [
    {
     "name": "stderr",
     "output_type": "stream",
     "text": [
      "/Users/bochaolu1/anaconda3/envs/data-x/lib/python3.6/site-packages/IPython/core/interactiveshell.py:2728: DtypeWarning: Columns (1,2,3,4,5,6,7,8,9,10,11,12,13,14,15,16,17,18,19,20,21,22,23,24,25,26,27,28,29,30,31,32,33,34,35,36) have mixed types. Specify dtype option on import or set low_memory=False.\n",
      "  interactivity=interactivity, compiler=compiler, result=result)\n"
     ]
    },
    {
     "data": {
      "text/html": [
       "<div>\n",
       "<style scoped>\n",
       "    .dataframe tbody tr th:only-of-type {\n",
       "        vertical-align: middle;\n",
       "    }\n",
       "\n",
       "    .dataframe tbody tr th {\n",
       "        vertical-align: top;\n",
       "    }\n",
       "\n",
       "    .dataframe thead th {\n",
       "        text-align: right;\n",
       "    }\n",
       "</style>\n",
       "<table border=\"1\" class=\"dataframe\">\n",
       "  <thead>\n",
       "    <tr style=\"text-align: right;\">\n",
       "      <th></th>\n",
       "      <th>USDT_BTC</th>\n",
       "      <th>USDT_BTC.1</th>\n",
       "      <th>USDT_BTC.2</th>\n",
       "      <th>USDT_XRP</th>\n",
       "      <th>USDT_XRP.1</th>\n",
       "      <th>USDT_XRP.2</th>\n",
       "      <th>USDT_BCH</th>\n",
       "      <th>USDT_BCH.1</th>\n",
       "      <th>USDT_BCH.2</th>\n",
       "      <th>USDT_ETH</th>\n",
       "      <th>...</th>\n",
       "      <th>USDT_ZEC.2</th>\n",
       "      <th>USDT_DASH</th>\n",
       "      <th>USDT_DASH.1</th>\n",
       "      <th>USDT_DASH.2</th>\n",
       "      <th>USDT_NXT</th>\n",
       "      <th>USDT_NXT.1</th>\n",
       "      <th>USDT_NXT.2</th>\n",
       "      <th>USDT_REP</th>\n",
       "      <th>USDT_REP.1</th>\n",
       "      <th>USDT_REP.2</th>\n",
       "    </tr>\n",
       "  </thead>\n",
       "  <tbody>\n",
       "    <tr>\n",
       "      <th>0</th>\n",
       "      <td>5.596723</td>\n",
       "      <td>5398.837117</td>\n",
       "      <td>964.642624</td>\n",
       "      <td>1569.505205</td>\n",
       "      <td>10.177061</td>\n",
       "      <td>0.006484</td>\n",
       "      <td>NaN</td>\n",
       "      <td>NaN</td>\n",
       "      <td>NaN</td>\n",
       "      <td>10.829825</td>\n",
       "      <td>...</td>\n",
       "      <td>48.030064</td>\n",
       "      <td>0.311778</td>\n",
       "      <td>3.531872</td>\n",
       "      <td>11.328167</td>\n",
       "      <td>0.000000</td>\n",
       "      <td>0.00000</td>\n",
       "      <td>0.005898</td>\n",
       "      <td>4.451525</td>\n",
       "      <td>16.991181</td>\n",
       "      <td>3.816935</td>\n",
       "    </tr>\n",
       "    <tr>\n",
       "      <th>1</th>\n",
       "      <td>0.087282</td>\n",
       "      <td>84.302118</td>\n",
       "      <td>965.858035</td>\n",
       "      <td>0.000000</td>\n",
       "      <td>0.000000</td>\n",
       "      <td>0.006487</td>\n",
       "      <td>NaN</td>\n",
       "      <td>NaN</td>\n",
       "      <td>NaN</td>\n",
       "      <td>1.905818</td>\n",
       "      <td>...</td>\n",
       "      <td>47.995989</td>\n",
       "      <td>0.000000</td>\n",
       "      <td>0.000000</td>\n",
       "      <td>11.340000</td>\n",
       "      <td>3.749288</td>\n",
       "      <td>0.02215</td>\n",
       "      <td>0.005908</td>\n",
       "      <td>0.627492</td>\n",
       "      <td>2.407884</td>\n",
       "      <td>3.837313</td>\n",
       "    </tr>\n",
       "    <tr>\n",
       "      <th>2</th>\n",
       "      <td>2.737368</td>\n",
       "      <td>2638.676171</td>\n",
       "      <td>963.946565</td>\n",
       "      <td>0.000000</td>\n",
       "      <td>0.000000</td>\n",
       "      <td>0.006487</td>\n",
       "      <td>NaN</td>\n",
       "      <td>NaN</td>\n",
       "      <td>NaN</td>\n",
       "      <td>52.238724</td>\n",
       "      <td>...</td>\n",
       "      <td>47.870846</td>\n",
       "      <td>0.000000</td>\n",
       "      <td>0.000000</td>\n",
       "      <td>11.340000</td>\n",
       "      <td>0.000000</td>\n",
       "      <td>0.00000</td>\n",
       "      <td>0.005908</td>\n",
       "      <td>0.000000</td>\n",
       "      <td>0.000000</td>\n",
       "      <td>3.837313</td>\n",
       "    </tr>\n",
       "    <tr>\n",
       "      <th>3</th>\n",
       "      <td>3.550087</td>\n",
       "      <td>3415.272309</td>\n",
       "      <td>962.024978</td>\n",
       "      <td>0.000000</td>\n",
       "      <td>0.000000</td>\n",
       "      <td>0.006487</td>\n",
       "      <td>NaN</td>\n",
       "      <td>NaN</td>\n",
       "      <td>NaN</td>\n",
       "      <td>71.031741</td>\n",
       "      <td>...</td>\n",
       "      <td>47.870846</td>\n",
       "      <td>0.021098</td>\n",
       "      <td>0.238512</td>\n",
       "      <td>11.305037</td>\n",
       "      <td>0.000000</td>\n",
       "      <td>0.00000</td>\n",
       "      <td>0.005908</td>\n",
       "      <td>0.000000</td>\n",
       "      <td>0.000000</td>\n",
       "      <td>3.837313</td>\n",
       "    </tr>\n",
       "    <tr>\n",
       "      <th>4</th>\n",
       "      <td>0.083323</td>\n",
       "      <td>80.287691</td>\n",
       "      <td>963.568648</td>\n",
       "      <td>0.000000</td>\n",
       "      <td>0.000000</td>\n",
       "      <td>0.006487</td>\n",
       "      <td>NaN</td>\n",
       "      <td>NaN</td>\n",
       "      <td>NaN</td>\n",
       "      <td>2.364352</td>\n",
       "      <td>...</td>\n",
       "      <td>48.130523</td>\n",
       "      <td>0.000000</td>\n",
       "      <td>0.000000</td>\n",
       "      <td>11.305037</td>\n",
       "      <td>0.000000</td>\n",
       "      <td>0.00000</td>\n",
       "      <td>0.005908</td>\n",
       "      <td>0.000000</td>\n",
       "      <td>0.000000</td>\n",
       "      <td>3.837313</td>\n",
       "    </tr>\n",
       "  </tbody>\n",
       "</table>\n",
       "<p>5 rows × 36 columns</p>\n",
       "</div>"
      ],
      "text/plain": [
       "   USDT_BTC   USDT_BTC.1  USDT_BTC.2     USDT_XRP  USDT_XRP.1  USDT_XRP.2  \\\n",
       "0  5.596723  5398.837117  964.642624  1569.505205   10.177061    0.006484   \n",
       "1  0.087282    84.302118  965.858035     0.000000    0.000000    0.006487   \n",
       "2  2.737368  2638.676171  963.946565     0.000000    0.000000    0.006487   \n",
       "3  3.550087  3415.272309  962.024978     0.000000    0.000000    0.006487   \n",
       "4  0.083323    80.287691  963.568648     0.000000    0.000000    0.006487   \n",
       "\n",
       "   USDT_BCH  USDT_BCH.1  USDT_BCH.2   USDT_ETH     ...      USDT_ZEC.2  \\\n",
       "0       NaN         NaN         NaN  10.829825     ...       48.030064   \n",
       "1       NaN         NaN         NaN   1.905818     ...       47.995989   \n",
       "2       NaN         NaN         NaN  52.238724     ...       47.870846   \n",
       "3       NaN         NaN         NaN  71.031741     ...       47.870846   \n",
       "4       NaN         NaN         NaN   2.364352     ...       48.130523   \n",
       "\n",
       "   USDT_DASH  USDT_DASH.1  USDT_DASH.2  USDT_NXT  USDT_NXT.1  USDT_NXT.2  \\\n",
       "0   0.311778     3.531872    11.328167  0.000000     0.00000    0.005898   \n",
       "1   0.000000     0.000000    11.340000  3.749288     0.02215    0.005908   \n",
       "2   0.000000     0.000000    11.340000  0.000000     0.00000    0.005908   \n",
       "3   0.021098     0.238512    11.305037  0.000000     0.00000    0.005908   \n",
       "4   0.000000     0.000000    11.305037  0.000000     0.00000    0.005908   \n",
       "\n",
       "   USDT_REP  USDT_REP.1  USDT_REP.2  \n",
       "0  4.451525   16.991181    3.816935  \n",
       "1  0.627492    2.407884    3.837313  \n",
       "2  0.000000    0.000000    3.837313  \n",
       "3  0.000000    0.000000    3.837313  \n",
       "4  0.000000    0.000000    3.837313  \n",
       "\n",
       "[5 rows x 36 columns]"
      ]
     },
     "execution_count": 25,
     "metadata": {},
     "output_type": "execute_result"
    }
   ],
   "source": [
    "pdf = pd.read_csv('poloniex_usdt_pairs.csv')\n",
    "new_df = pd.DataFrame(pdf[1:])\n",
    "new_df = new_df.set_index('Unnamed: 0').apply(lambda x: pd.Series([float(i) for i in x]))\n",
    "new_df.head()"
   ]
  },
  {
   "cell_type": "code",
   "execution_count": 26,
   "metadata": {},
   "outputs": [
    {
     "data": {
      "text/html": [
       "<div>\n",
       "<style scoped>\n",
       "    .dataframe tbody tr th:only-of-type {\n",
       "        vertical-align: middle;\n",
       "    }\n",
       "\n",
       "    .dataframe tbody tr th {\n",
       "        vertical-align: top;\n",
       "    }\n",
       "\n",
       "    .dataframe thead th {\n",
       "        text-align: right;\n",
       "    }\n",
       "</style>\n",
       "<table border=\"1\" class=\"dataframe\">\n",
       "  <thead>\n",
       "    <tr style=\"text-align: right;\">\n",
       "      <th></th>\n",
       "      <th>USDT_BTC</th>\n",
       "      <th>USDT_BTC.1</th>\n",
       "      <th>USDT_BTC.2</th>\n",
       "      <th>USDT_XRP</th>\n",
       "      <th>USDT_XRP.1</th>\n",
       "      <th>USDT_XRP.2</th>\n",
       "      <th>USDT_ETH</th>\n",
       "      <th>USDT_ETH.1</th>\n",
       "      <th>USDT_ETH.2</th>\n",
       "      <th>USDT_LTC</th>\n",
       "      <th>...</th>\n",
       "      <th>USDT_ZEC.2</th>\n",
       "      <th>USDT_DASH</th>\n",
       "      <th>USDT_DASH.1</th>\n",
       "      <th>USDT_DASH.2</th>\n",
       "      <th>USDT_NXT</th>\n",
       "      <th>USDT_NXT.1</th>\n",
       "      <th>USDT_NXT.2</th>\n",
       "      <th>USDT_REP</th>\n",
       "      <th>USDT_REP.1</th>\n",
       "      <th>USDT_REP.2</th>\n",
       "    </tr>\n",
       "  </thead>\n",
       "  <tbody>\n",
       "    <tr>\n",
       "      <th>0</th>\n",
       "      <td>5.596723</td>\n",
       "      <td>5398.837117</td>\n",
       "      <td>964.642624</td>\n",
       "      <td>1569.505205</td>\n",
       "      <td>10.177061</td>\n",
       "      <td>0.006484</td>\n",
       "      <td>10.829825</td>\n",
       "      <td>87.204495</td>\n",
       "      <td>8.052253</td>\n",
       "      <td>0.000000</td>\n",
       "      <td>...</td>\n",
       "      <td>48.030064</td>\n",
       "      <td>0.311778</td>\n",
       "      <td>3.531872</td>\n",
       "      <td>11.328167</td>\n",
       "      <td>0.000000</td>\n",
       "      <td>0.00000</td>\n",
       "      <td>0.005898</td>\n",
       "      <td>4.451525</td>\n",
       "      <td>16.991181</td>\n",
       "      <td>3.816935</td>\n",
       "    </tr>\n",
       "    <tr>\n",
       "      <th>1</th>\n",
       "      <td>0.087282</td>\n",
       "      <td>84.302118</td>\n",
       "      <td>965.858035</td>\n",
       "      <td>0.000000</td>\n",
       "      <td>0.000000</td>\n",
       "      <td>0.006487</td>\n",
       "      <td>1.905818</td>\n",
       "      <td>15.430150</td>\n",
       "      <td>8.096340</td>\n",
       "      <td>3.488528</td>\n",
       "      <td>...</td>\n",
       "      <td>47.995989</td>\n",
       "      <td>0.000000</td>\n",
       "      <td>0.000000</td>\n",
       "      <td>11.340000</td>\n",
       "      <td>3.749288</td>\n",
       "      <td>0.02215</td>\n",
       "      <td>0.005908</td>\n",
       "      <td>0.627492</td>\n",
       "      <td>2.407884</td>\n",
       "      <td>3.837313</td>\n",
       "    </tr>\n",
       "    <tr>\n",
       "      <th>2</th>\n",
       "      <td>2.737368</td>\n",
       "      <td>2638.676171</td>\n",
       "      <td>963.946565</td>\n",
       "      <td>0.000000</td>\n",
       "      <td>0.000000</td>\n",
       "      <td>0.006487</td>\n",
       "      <td>52.238724</td>\n",
       "      <td>424.651523</td>\n",
       "      <td>8.129056</td>\n",
       "      <td>0.022954</td>\n",
       "      <td>...</td>\n",
       "      <td>47.870846</td>\n",
       "      <td>0.000000</td>\n",
       "      <td>0.000000</td>\n",
       "      <td>11.340000</td>\n",
       "      <td>0.000000</td>\n",
       "      <td>0.00000</td>\n",
       "      <td>0.005908</td>\n",
       "      <td>0.000000</td>\n",
       "      <td>0.000000</td>\n",
       "      <td>3.837313</td>\n",
       "    </tr>\n",
       "    <tr>\n",
       "      <th>3</th>\n",
       "      <td>3.550087</td>\n",
       "      <td>3415.272309</td>\n",
       "      <td>962.024978</td>\n",
       "      <td>0.000000</td>\n",
       "      <td>0.000000</td>\n",
       "      <td>0.006487</td>\n",
       "      <td>71.031741</td>\n",
       "      <td>581.842210</td>\n",
       "      <td>8.191299</td>\n",
       "      <td>0.001006</td>\n",
       "      <td>...</td>\n",
       "      <td>47.870846</td>\n",
       "      <td>0.021098</td>\n",
       "      <td>0.238512</td>\n",
       "      <td>11.305037</td>\n",
       "      <td>0.000000</td>\n",
       "      <td>0.00000</td>\n",
       "      <td>0.005908</td>\n",
       "      <td>0.000000</td>\n",
       "      <td>0.000000</td>\n",
       "      <td>3.837313</td>\n",
       "    </tr>\n",
       "    <tr>\n",
       "      <th>4</th>\n",
       "      <td>0.083323</td>\n",
       "      <td>80.287691</td>\n",
       "      <td>963.568648</td>\n",
       "      <td>0.000000</td>\n",
       "      <td>0.000000</td>\n",
       "      <td>0.006487</td>\n",
       "      <td>2.364352</td>\n",
       "      <td>19.389736</td>\n",
       "      <td>8.200868</td>\n",
       "      <td>15.142531</td>\n",
       "      <td>...</td>\n",
       "      <td>48.130523</td>\n",
       "      <td>0.000000</td>\n",
       "      <td>0.000000</td>\n",
       "      <td>11.305037</td>\n",
       "      <td>0.000000</td>\n",
       "      <td>0.00000</td>\n",
       "      <td>0.005908</td>\n",
       "      <td>0.000000</td>\n",
       "      <td>0.000000</td>\n",
       "      <td>3.837313</td>\n",
       "    </tr>\n",
       "  </tbody>\n",
       "</table>\n",
       "<p>5 rows × 33 columns</p>\n",
       "</div>"
      ],
      "text/plain": [
       "   USDT_BTC   USDT_BTC.1  USDT_BTC.2     USDT_XRP  USDT_XRP.1  USDT_XRP.2  \\\n",
       "0  5.596723  5398.837117  964.642624  1569.505205   10.177061    0.006484   \n",
       "1  0.087282    84.302118  965.858035     0.000000    0.000000    0.006487   \n",
       "2  2.737368  2638.676171  963.946565     0.000000    0.000000    0.006487   \n",
       "3  3.550087  3415.272309  962.024978     0.000000    0.000000    0.006487   \n",
       "4  0.083323    80.287691  963.568648     0.000000    0.000000    0.006487   \n",
       "\n",
       "    USDT_ETH  USDT_ETH.1  USDT_ETH.2   USDT_LTC     ...      USDT_ZEC.2  \\\n",
       "0  10.829825   87.204495    8.052253   0.000000     ...       48.030064   \n",
       "1   1.905818   15.430150    8.096340   3.488528     ...       47.995989   \n",
       "2  52.238724  424.651523    8.129056   0.022954     ...       47.870846   \n",
       "3  71.031741  581.842210    8.191299   0.001006     ...       47.870846   \n",
       "4   2.364352   19.389736    8.200868  15.142531     ...       48.130523   \n",
       "\n",
       "   USDT_DASH  USDT_DASH.1  USDT_DASH.2  USDT_NXT  USDT_NXT.1  USDT_NXT.2  \\\n",
       "0   0.311778     3.531872    11.328167  0.000000     0.00000    0.005898   \n",
       "1   0.000000     0.000000    11.340000  3.749288     0.02215    0.005908   \n",
       "2   0.000000     0.000000    11.340000  0.000000     0.00000    0.005908   \n",
       "3   0.021098     0.238512    11.305037  0.000000     0.00000    0.005908   \n",
       "4   0.000000     0.000000    11.305037  0.000000     0.00000    0.005908   \n",
       "\n",
       "   USDT_REP  USDT_REP.1  USDT_REP.2  \n",
       "0  4.451525   16.991181    3.816935  \n",
       "1  0.627492    2.407884    3.837313  \n",
       "2  0.000000    0.000000    3.837313  \n",
       "3  0.000000    0.000000    3.837313  \n",
       "4  0.000000    0.000000    3.837313  \n",
       "\n",
       "[5 rows x 33 columns]"
      ]
     },
     "execution_count": 26,
     "metadata": {},
     "output_type": "execute_result"
    }
   ],
   "source": [
    "#USDT_BCH has too many NAN value, so I get rid all of them\n",
    "#we may want to use part of the data to see any further improvement\n",
    "df1=new_df.drop({'USDT_BCH','USDT_BCH.1','USDT_BCH.2'},axis=1)\n",
    "df1.head()"
   ]
  },
  {
   "cell_type": "code",
   "execution_count": 27,
   "metadata": {},
   "outputs": [
    {
     "data": {
      "text/plain": [
       "USDT_BTC       0\n",
       "USDT_BTC.1     0\n",
       "USDT_BTC.2     0\n",
       "USDT_XRP       0\n",
       "USDT_XRP.1     0\n",
       "USDT_XRP.2     0\n",
       "USDT_ETH       0\n",
       "USDT_ETH.1     0\n",
       "USDT_ETH.2     0\n",
       "USDT_LTC       0\n",
       "USDT_LTC.1     0\n",
       "USDT_LTC.2     0\n",
       "USDT_ETC       0\n",
       "USDT_ETC.1     0\n",
       "USDT_ETC.2     0\n",
       "USDT_STR       0\n",
       "USDT_STR.1     0\n",
       "USDT_STR.2     0\n",
       "USDT_XMR       0\n",
       "USDT_XMR.1     0\n",
       "USDT_XMR.2     0\n",
       "USDT_ZEC       0\n",
       "USDT_ZEC.1     0\n",
       "USDT_ZEC.2     0\n",
       "USDT_DASH      0\n",
       "USDT_DASH.1    0\n",
       "USDT_DASH.2    0\n",
       "USDT_NXT       0\n",
       "USDT_NXT.1     0\n",
       "USDT_NXT.2     0\n",
       "USDT_REP       0\n",
       "USDT_REP.1     0\n",
       "USDT_REP.2     0\n",
       "dtype: int64"
      ]
     },
     "execution_count": 27,
     "metadata": {},
     "output_type": "execute_result"
    }
   ],
   "source": [
    "#get rid of NAN values in the last 3 lines. \n",
    "df1=df1[:-3]\n",
    "df1.isnull().sum()"
   ]
  },
  {
   "cell_type": "code",
   "execution_count": 28,
   "metadata": {},
   "outputs": [
    {
     "data": {
      "text/html": [
       "<div>\n",
       "<style scoped>\n",
       "    .dataframe tbody tr th:only-of-type {\n",
       "        vertical-align: middle;\n",
       "    }\n",
       "\n",
       "    .dataframe tbody tr th {\n",
       "        vertical-align: top;\n",
       "    }\n",
       "\n",
       "    .dataframe thead th {\n",
       "        text-align: right;\n",
       "    }\n",
       "</style>\n",
       "<table border=\"1\" class=\"dataframe\">\n",
       "  <thead>\n",
       "    <tr style=\"text-align: right;\">\n",
       "      <th></th>\n",
       "      <th>USDT_BTC.2</th>\n",
       "    </tr>\n",
       "  </thead>\n",
       "  <tbody>\n",
       "    <tr>\n",
       "      <th>0</th>\n",
       "      <td>964.642624</td>\n",
       "    </tr>\n",
       "    <tr>\n",
       "      <th>1</th>\n",
       "      <td>965.858035</td>\n",
       "    </tr>\n",
       "    <tr>\n",
       "      <th>2</th>\n",
       "      <td>963.946565</td>\n",
       "    </tr>\n",
       "    <tr>\n",
       "      <th>3</th>\n",
       "      <td>962.024978</td>\n",
       "    </tr>\n",
       "    <tr>\n",
       "      <th>4</th>\n",
       "      <td>963.568648</td>\n",
       "    </tr>\n",
       "  </tbody>\n",
       "</table>\n",
       "</div>"
      ],
      "text/plain": [
       "   USDT_BTC.2\n",
       "0  964.642624\n",
       "1  965.858035\n",
       "2  963.946565\n",
       "3  962.024978\n",
       "4  963.568648"
      ]
     },
     "execution_count": 28,
     "metadata": {},
     "output_type": "execute_result"
    }
   ],
   "source": [
    "x=df1.iloc[:,2:3]\n",
    "x.head()\n"
   ]
  },
  {
   "cell_type": "code",
   "execution_count": 29,
   "metadata": {},
   "outputs": [
    {
     "data": {
      "text/html": [
       "<div>\n",
       "<style scoped>\n",
       "    .dataframe tbody tr th:only-of-type {\n",
       "        vertical-align: middle;\n",
       "    }\n",
       "\n",
       "    .dataframe tbody tr th {\n",
       "        vertical-align: top;\n",
       "    }\n",
       "\n",
       "    .dataframe thead th {\n",
       "        text-align: right;\n",
       "    }\n",
       "</style>\n",
       "<table border=\"1\" class=\"dataframe\">\n",
       "  <thead>\n",
       "    <tr style=\"text-align: right;\">\n",
       "      <th></th>\n",
       "      <th>USDT_BTC.2</th>\n",
       "    </tr>\n",
       "  </thead>\n",
       "  <tbody>\n",
       "    <tr>\n",
       "      <th>0</th>\n",
       "      <td>965.858035</td>\n",
       "    </tr>\n",
       "    <tr>\n",
       "      <th>1</th>\n",
       "      <td>963.946565</td>\n",
       "    </tr>\n",
       "    <tr>\n",
       "      <th>2</th>\n",
       "      <td>962.024978</td>\n",
       "    </tr>\n",
       "    <tr>\n",
       "      <th>3</th>\n",
       "      <td>963.568648</td>\n",
       "    </tr>\n",
       "    <tr>\n",
       "      <th>4</th>\n",
       "      <td>965.356982</td>\n",
       "    </tr>\n",
       "  </tbody>\n",
       "</table>\n",
       "</div>"
      ],
      "text/plain": [
       "   USDT_BTC.2\n",
       "0  965.858035\n",
       "1  963.946565\n",
       "2  962.024978\n",
       "3  963.568648\n",
       "4  965.356982"
      ]
     },
     "execution_count": 29,
     "metadata": {},
     "output_type": "execute_result"
    }
   ],
   "source": [
    "y=df1.iloc[1:,2:3]\n",
    "#y.head()\n",
    "y = y.apply(lambda x: pd.Series([float(i) for i in x]))\n",
    "y.head()"
   ]
  },
  {
   "cell_type": "code",
   "execution_count": 30,
   "metadata": {},
   "outputs": [
    {
     "data": {
      "text/plain": [
       "800"
      ]
     },
     "execution_count": 30,
     "metadata": {},
     "output_type": "execute_result"
    }
   ],
   "source": [
    "data_to_use=1000\n",
    "train_end=int(data_to_use*0.8)\n",
    "total_data=len(df1)\n",
    "#start=total_data-data_to_use\n",
    "\n",
    "train_end\n"
   ]
  },
  {
   "cell_type": "code",
   "execution_count": 31,
   "metadata": {},
   "outputs": [],
   "source": [
    "scaler=MinMaxScaler(feature_range=(0,1))\n",
    "#x=np.array(x).reshape((len(x),3))\n",
    "x=scaler.fit_transform(x)\n",
    "\n",
    "#scaler_y=MinMaxScaler(feature_range=(0,1))\n",
    "#y=np.array(y).reshape((len(y),1))\n",
    "y=scaler.fit_transform(y)"
   ]
  },
  {
   "cell_type": "code",
   "execution_count": 32,
   "metadata": {},
   "outputs": [
    {
     "data": {
      "text/plain": [
       "[<matplotlib.lines.Line2D at 0x12ed42e48>]"
      ]
     },
     "execution_count": 32,
     "metadata": {},
     "output_type": "execute_result"
    },
    {
     "data": {
      "image/png": "[encoded data removed]",
      "text/plain": [
       "<matplotlib.figure.Figure at 0x11fe7efd0>"
      ]
     },
     "metadata": {},
     "output_type": "display_data"
    }
   ],
   "source": [
    "plt.plot(y)"
   ]
  },
  {
   "cell_type": "code",
   "execution_count": 33,
   "metadata": {},
   "outputs": [
    {
     "name": "stdout",
     "output_type": "stream",
     "text": [
      "(800, 1) (200, 1)\n",
      "(800, 1) (200, 1)\n"
     ]
    }
   ],
   "source": [
    "x_train=np.array(x[0:train_end])\n",
    "y_train=np.array(y[0:train_end])\n",
    "x_test=np.array(x[train_end+1:data_to_use+1])\n",
    "y_test=np.array(y[train_end+1:data_to_use+1])\n",
    "\n",
    "print(x_train.shape,x_test.shape)\n",
    "print(y_train.shape,y_test.shape)\n"
   ]
  },
  {
   "cell_type": "code",
   "execution_count": 34,
   "metadata": {},
   "outputs": [],
   "source": [
    "#print (x_train)\n",
    "#print('x'*20)\n",
    "#print(y_train)"
   ]
  },
  {
   "cell_type": "code",
   "execution_count": 35,
   "metadata": {},
   "outputs": [],
   "source": [
    "x_train=np.reshape(x_train,(x_train.shape[0],1,x_train.shape[1]))\n",
    "x_test=np.reshape(x_test,(x_test.shape[0],1,x_test.shape[1]))\n",
    "#y_train=np.reshape(y_train,(y_train.shape[0],1,y_train.shape[1]))\n",
    "#y_test=np.reshape(y_test,(y_test.shape[0],1,y_test.shape[1]))\n"
   ]
  },
  {
   "cell_type": "code",
   "execution_count": 36,
   "metadata": {},
   "outputs": [
    {
     "data": {
      "text/plain": [
       "[<matplotlib.lines.Line2D at 0x124d599e8>]"
      ]
     },
     "execution_count": 36,
     "metadata": {},
     "output_type": "execute_result"
    },
    {
     "data": {
      "image/png": "[encoded data removed]",
      "text/plain": [
       "<matplotlib.figure.Figure at 0x12ed5c390>"
      ]
     },
     "metadata": {},
     "output_type": "display_data"
    }
   ],
   "source": [
    "plt.plot(y_train)"
   ]
  },
  {
   "cell_type": "code",
   "execution_count": 37,
   "metadata": {},
   "outputs": [],
   "source": [
    "model = Sequential()\n",
    "model.add(Dense(50, input_dim=1, activation='relu'))\n",
    "model.add(Dense(50, activation='relu'))\n",
    "model.add(Dense(1, activation='sigmoid'))"
   ]
  },
  {
   "cell_type": "code",
   "execution_count": 16,
   "metadata": {},
   "outputs": [
    {
     "name": "stderr",
     "output_type": "stream",
     "text": [
      "/Users/bochaolu1/anaconda3/envs/data-x/lib/python3.6/site-packages/ipykernel_launcher.py:7: UserWarning: Update your `Dense` call to the Keras 2 API: `Dense(activation=\"linear\", units=1)`\n",
      "  import sys\n"
     ]
    }
   ],
   "source": [
    "model=Sequential()\n",
    "model.add(LSTM(12,input_shape=(1,1), return_sequences=True))\n",
    "model.add(Dropout(0.2))\n",
    "model.add(LSTM(100,return_sequences=False))\n",
    "model.add(Dropout(0.2))\n",
    "\n",
    "model.add(Dense(output_dim=1,activation='linear'))\n",
    "#model.add(Dense(1))"
   ]
  },
  {
   "cell_type": "code",
   "execution_count": 17,
   "metadata": {},
   "outputs": [
    {
     "data": {
      "text/plain": [
       "(800,)"
      ]
     },
     "execution_count": 17,
     "metadata": {},
     "output_type": "execute_result"
    }
   ],
   "source": [
    "y_train[:,0].shape\n"
   ]
  },
  {
   "cell_type": "code",
   "execution_count": 38,
   "metadata": {},
   "outputs": [
    {
     "name": "stderr",
     "output_type": "stream",
     "text": [
      "/Users/bochaolu1/anaconda3/envs/data-x/lib/python3.6/site-packages/keras/models.py:942: UserWarning: The `nb_epoch` argument in `fit` has been renamed `epochs`.\n",
      "  warnings.warn('The `nb_epoch` argument in `fit` '\n"
     ]
    },
    {
     "ename": "ValueError",
     "evalue": "Error when checking input: expected dense_2_input to have 2 dimensions, but got array with shape (800, 1, 1)",
     "output_type": "error",
     "traceback": [
      "\u001b[0;31m---------------------------------------------------------------------------\u001b[0m",
      "\u001b[0;31mValueError\u001b[0m                                Traceback (most recent call last)",
      "\u001b[0;32m<ipython-input-38-dc6fb647710b>\u001b[0m in \u001b[0;36m<module>\u001b[0;34m()\u001b[0m\n\u001b[1;32m      1\u001b[0m \u001b[0mmodel\u001b[0m\u001b[0;34m.\u001b[0m\u001b[0mcompile\u001b[0m\u001b[0;34m(\u001b[0m\u001b[0mloss\u001b[0m\u001b[0;34m=\u001b[0m\u001b[0;34m'mean_squared_error'\u001b[0m\u001b[0;34m,\u001b[0m\u001b[0moptimizer\u001b[0m\u001b[0;34m=\u001b[0m\u001b[0;34m'adam'\u001b[0m\u001b[0;34m)\u001b[0m\u001b[0;34m\u001b[0m\u001b[0m\n\u001b[0;32m----> 2\u001b[0;31m \u001b[0mmodel\u001b[0m\u001b[0;34m.\u001b[0m\u001b[0mfit\u001b[0m\u001b[0;34m(\u001b[0m\u001b[0mx_train\u001b[0m\u001b[0;34m,\u001b[0m\u001b[0my_train\u001b[0m\u001b[0;34m,\u001b[0m\u001b[0mbatch_size\u001b[0m\u001b[0;34m=\u001b[0m\u001b[0;36m80\u001b[0m\u001b[0;34m,\u001b[0m\u001b[0mnb_epoch\u001b[0m\u001b[0;34m=\u001b[0m\u001b[0;36m10\u001b[0m\u001b[0;34m,\u001b[0m\u001b[0mvalidation_split\u001b[0m\u001b[0;34m=\u001b[0m\u001b[0;36m0.1\u001b[0m\u001b[0;34m,\u001b[0m\u001b[0mshuffle\u001b[0m\u001b[0;34m=\u001b[0m\u001b[0;32mFalse\u001b[0m\u001b[0;34m)\u001b[0m\u001b[0;34m\u001b[0m\u001b[0m\n\u001b[0m",
      "\u001b[0;32m~/anaconda3/envs/data-x/lib/python3.6/site-packages/keras/models.py\u001b[0m in \u001b[0;36mfit\u001b[0;34m(self, x, y, batch_size, epochs, verbose, callbacks, validation_split, validation_data, shuffle, class_weight, sample_weight, initial_epoch, steps_per_epoch, validation_steps, **kwargs)\u001b[0m\n\u001b[1;32m    961\u001b[0m                               \u001b[0minitial_epoch\u001b[0m\u001b[0;34m=\u001b[0m\u001b[0minitial_epoch\u001b[0m\u001b[0;34m,\u001b[0m\u001b[0;34m\u001b[0m\u001b[0m\n\u001b[1;32m    962\u001b[0m                               \u001b[0msteps_per_epoch\u001b[0m\u001b[0;34m=\u001b[0m\u001b[0msteps_per_epoch\u001b[0m\u001b[0;34m,\u001b[0m\u001b[0;34m\u001b[0m\u001b[0m\n\u001b[0;32m--> 963\u001b[0;31m                               validation_steps=validation_steps)\n\u001b[0m\u001b[1;32m    964\u001b[0m \u001b[0;34m\u001b[0m\u001b[0m\n\u001b[1;32m    965\u001b[0m     def evaluate(self, x=None, y=None,\n",
      "\u001b[0;32m~/anaconda3/envs/data-x/lib/python3.6/site-packages/keras/engine/training.py\u001b[0m in \u001b[0;36mfit\u001b[0;34m(self, x, y, batch_size, epochs, verbose, callbacks, validation_split, validation_data, shuffle, class_weight, sample_weight, initial_epoch, steps_per_epoch, validation_steps, **kwargs)\u001b[0m\n\u001b[1;32m   1628\u001b[0m             \u001b[0msample_weight\u001b[0m\u001b[0;34m=\u001b[0m\u001b[0msample_weight\u001b[0m\u001b[0;34m,\u001b[0m\u001b[0;34m\u001b[0m\u001b[0m\n\u001b[1;32m   1629\u001b[0m             \u001b[0mclass_weight\u001b[0m\u001b[0;34m=\u001b[0m\u001b[0mclass_weight\u001b[0m\u001b[0;34m,\u001b[0m\u001b[0;34m\u001b[0m\u001b[0m\n\u001b[0;32m-> 1630\u001b[0;31m             batch_size=batch_size)\n\u001b[0m\u001b[1;32m   1631\u001b[0m         \u001b[0;31m# Prepare validation data.\u001b[0m\u001b[0;34m\u001b[0m\u001b[0;34m\u001b[0m\u001b[0m\n\u001b[1;32m   1632\u001b[0m         \u001b[0mdo_validation\u001b[0m \u001b[0;34m=\u001b[0m \u001b[0;32mFalse\u001b[0m\u001b[0;34m\u001b[0m\u001b[0m\n",
      "\u001b[0;32m~/anaconda3/envs/data-x/lib/python3.6/site-packages/keras/engine/training.py\u001b[0m in \u001b[0;36m_standardize_user_data\u001b[0;34m(self, x, y, sample_weight, class_weight, check_array_lengths, batch_size)\u001b[0m\n\u001b[1;32m   1474\u001b[0m                                     \u001b[0mself\u001b[0m\u001b[0;34m.\u001b[0m\u001b[0m_feed_input_shapes\u001b[0m\u001b[0;34m,\u001b[0m\u001b[0;34m\u001b[0m\u001b[0m\n\u001b[1;32m   1475\u001b[0m                                     \u001b[0mcheck_batch_axis\u001b[0m\u001b[0;34m=\u001b[0m\u001b[0;32mFalse\u001b[0m\u001b[0;34m,\u001b[0m\u001b[0;34m\u001b[0m\u001b[0m\n\u001b[0;32m-> 1476\u001b[0;31m                                     exception_prefix='input')\n\u001b[0m\u001b[1;32m   1477\u001b[0m         y = _standardize_input_data(y, self._feed_output_names,\n\u001b[1;32m   1478\u001b[0m                                     \u001b[0moutput_shapes\u001b[0m\u001b[0;34m,\u001b[0m\u001b[0;34m\u001b[0m\u001b[0m\n",
      "\u001b[0;32m~/anaconda3/envs/data-x/lib/python3.6/site-packages/keras/engine/training.py\u001b[0m in \u001b[0;36m_standardize_input_data\u001b[0;34m(data, names, shapes, check_batch_axis, exception_prefix)\u001b[0m\n\u001b[1;32m    111\u001b[0m                         \u001b[0;34m': expected '\u001b[0m \u001b[0;34m+\u001b[0m \u001b[0mnames\u001b[0m\u001b[0;34m[\u001b[0m\u001b[0mi\u001b[0m\u001b[0;34m]\u001b[0m \u001b[0;34m+\u001b[0m \u001b[0;34m' to have '\u001b[0m \u001b[0;34m+\u001b[0m\u001b[0;34m\u001b[0m\u001b[0m\n\u001b[1;32m    112\u001b[0m                         \u001b[0mstr\u001b[0m\u001b[0;34m(\u001b[0m\u001b[0mlen\u001b[0m\u001b[0;34m(\u001b[0m\u001b[0mshape\u001b[0m\u001b[0;34m)\u001b[0m\u001b[0;34m)\u001b[0m \u001b[0;34m+\u001b[0m \u001b[0;34m' dimensions, but got array '\u001b[0m\u001b[0;34m\u001b[0m\u001b[0m\n\u001b[0;32m--> 113\u001b[0;31m                         'with shape ' + str(data_shape))\n\u001b[0m\u001b[1;32m    114\u001b[0m                 \u001b[0;32mif\u001b[0m \u001b[0;32mnot\u001b[0m \u001b[0mcheck_batch_axis\u001b[0m\u001b[0;34m:\u001b[0m\u001b[0;34m\u001b[0m\u001b[0m\n\u001b[1;32m    115\u001b[0m                     \u001b[0mdata_shape\u001b[0m \u001b[0;34m=\u001b[0m \u001b[0mdata_shape\u001b[0m\u001b[0;34m[\u001b[0m\u001b[0;36m1\u001b[0m\u001b[0;34m:\u001b[0m\u001b[0;34m]\u001b[0m\u001b[0;34m\u001b[0m\u001b[0m\n",
      "\u001b[0;31mValueError\u001b[0m: Error when checking input: expected dense_2_input to have 2 dimensions, but got array with shape (800, 1, 1)"
     ]
    }
   ],
   "source": [
    "model.compile(loss='mean_squared_error',optimizer='adam')\n",
    "model.fit(x_train,y_train,batch_size=80,nb_epoch=10,validation_split=0.1,shuffle=False)"
   ]
  },
  {
   "cell_type": "code",
   "execution_count": 19,
   "metadata": {},
   "outputs": [],
   "source": [
    "trainpredict=model.predict(x_train)\n",
    "testpredict=model.predict(x_test)\n",
    "\n"
   ]
  },
  {
   "cell_type": "code",
   "execution_count": 20,
   "metadata": {},
   "outputs": [],
   "source": [
    "#y_train"
   ]
  },
  {
   "cell_type": "code",
   "execution_count": 21,
   "metadata": {},
   "outputs": [
    {
     "data": {
      "text/plain": [
       "[<matplotlib.lines.Line2D at 0x12a874e80>]"
      ]
     },
     "execution_count": 21,
     "metadata": {},
     "output_type": "execute_result"
    },
    {
     "data": {
      "image/png": "[encoded data removed]",
      "text/plain": [
       "<matplotlib.figure.Figure at 0x118c716d8>"
      ]
     },
     "metadata": {},
     "output_type": "display_data"
    }
   ],
   "source": [
    "plt.plot(trainpredict, color='red')\n",
    "#plt.plot(y_train,color='blue')"
   ]
  },
  {
   "cell_type": "code",
   "execution_count": 137,
   "metadata": {},
   "outputs": [],
   "source": [
    "#print(trainpredict)\n",
    "#print('*'*20)\n",
    "#print(y_train)"
   ]
  },
  {
   "cell_type": "code",
   "execution_count": 129,
   "metadata": {},
   "outputs": [],
   "source": [
    "trainpredict=trainpredict.reshape(len(trainpredict),1)\n",
    "#trainpredict"
   ]
  },
  {
   "cell_type": "code",
   "execution_count": 130,
   "metadata": {},
   "outputs": [
    {
     "data": {
      "text/plain": [
       "(200, 1)"
      ]
     },
     "execution_count": 130,
     "metadata": {},
     "output_type": "execute_result"
    }
   ],
   "source": [
    "y_test.shape"
   ]
  },
  {
   "cell_type": "code",
   "execution_count": 133,
   "metadata": {},
   "outputs": [],
   "source": [
    "testpredict=testpredict.reshape(len(testpredict),1)\n",
    "y_test=y_test.reshape(len(y_test),1)\n",
    "y_train=y_train.reshape(len(y_train),1)\n",
    "\n",
    "trainpredict=scaler.inverse_transform(trainpredict)\n",
    "testpredict=scaler.inverse_transform(testpredict)\n",
    "\n",
    "y_test=scaler.inverse_transform(y_test)\n",
    "y_train=scaler.inverse_transform(y_train)\n",
    "\n",
    "#print (testpredict)\n",
    "#print('*'*20)\n",
    "#print(y_test)"
   ]
  },
  {
   "cell_type": "code",
   "execution_count": 135,
   "metadata": {},
   "outputs": [
    {
     "data": {
      "text/plain": [
       "[<matplotlib.lines.Line2D at 0x1566d71d0>]"
      ]
     },
     "execution_count": 135,
     "metadata": {},
     "output_type": "execute_result"
    },
    {
     "data": {
      "image/png": "[encoded data removed]",
      "text/plain": [
       "<matplotlib.figure.Figure at 0x15662ea90>"
      ]
     },
     "metadata": {},
     "output_type": "display_data"
    }
   ],
   "source": [
    "plt.plot(trainpredict, color='red')\n",
    "#plt.plot(y_train,color='blue')"
   ]
  },
  {
   "cell_type": "code",
   "execution_count": 136,
   "metadata": {},
   "outputs": [
    {
     "data": {
      "text/plain": [
       "[<matplotlib.lines.Line2D at 0x157f10390>]"
      ]
     },
     "execution_count": 136,
     "metadata": {},
     "output_type": "execute_result"
    },
    {
     "data": {
      "image/png": "[encoded data removed]",
      "text/plain": [
       "<matplotlib.figure.Figure at 0x156642748>"
      ]
     },
     "metadata": {},
     "output_type": "display_data"
    }
   ],
   "source": [
    "plt.plot(y_train,color='blue')"
   ]
  },
  {
   "cell_type": "code",
   "execution_count": null,
   "metadata": {},
   "outputs": [],
   "source": []
  }
 ],
 "metadata": {
  "kernelspec": {
   "display_name": "Python 3",
   "language": "python",
   "name": "python3"
  },
  "language_info": {
   "codemirror_mode": {
    "name": "ipython",
    "version": 3
   },
   "file_extension": ".py",
   "mimetype": "text/x-python",
   "name": "python",
   "nbconvert_exporter": "python",
   "pygments_lexer": "ipython3",
   "version": "3.6.5"
  }
 },
 "nbformat": 4,
 "nbformat_minor": 2
}
